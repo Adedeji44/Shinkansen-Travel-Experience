{
 "cells": [
  {
   "cell_type": "markdown",
   "id": "f99e8a45",
   "metadata": {},
   "source": [
    "-------------------------------------------------------------------------------------------------------------------------------\n",
    "# Shinkansen Travel Experience\n",
    "**- The goal is to predict whether a passenger was satisfied or not considering his/her overall experience of traveling on the Shinkansen Bullet Train.**\n",
    "\n",
    "**- Time performance of the trains along with passenger information is published in a file named ‘Traveldata_train.csv’.  These passengers were later asked to provide their feedback on various parameters related to the travel along with their overall experience. These collected details are made available in the survey report labeled ‘Surveydata_train.csv’.**\n",
    "\n",
    "-------------------------------------------------------------------------------------------------------------------------------"
   ]
  },
  {
   "cell_type": "code",
   "execution_count": 1,
   "id": "16f75abf",
   "metadata": {},
   "outputs": [],
   "source": [
    "# Importing Libraries\n",
    "\n",
    "import warnings\n",
    "warnings.filterwarnings(\"ignore\")\n",
    "\n",
    "# Libraries for data manipulation and visualization\n",
    "import pandas as pd\n",
    "\n",
    "import numpy as np\n",
    "\n",
    "import matplotlib.pyplot as plt\n",
    "\n",
    "import seaborn as sns\n",
    "\n",
    "from sklearn.model_selection import train_test_split\n",
    "\n",
    "# Algorithms to use\n",
    "from sklearn.tree import DecisionTreeClassifier\n",
    "\n",
    "from sklearn import tree\n",
    "\n",
    "from sklearn.ensemble import RandomForestClassifier\n",
    "\n",
    "from sklearn.preprocessing import MinMaxScaler\n",
    "\n",
    "# Metrics to evaluate the model\n",
    "from sklearn.metrics import confusion_matrix, classification_report, recall_score\n",
    "\n",
    "from sklearn import metrics\n",
    "\n",
    "# For hyperparameter tuning\n",
    "from sklearn.model_selection import GridSearchCV\n",
    "\n",
    "from sklearn.model_selection import GridSearchCV, RandomizedSearchCV;\n",
    "from sklearn.metrics import recall_score, roc_curve, classification_report, confusion_matrix,precision_score,accuracy_score;\n",
    "\n",
    "# Importing the AdaBoostClassifier and GradientBoostingClassifier [Boosting]\n",
    "from sklearn.ensemble import AdaBoostClassifier, GradientBoostingClassifier\n",
    "\n",
    "# Importing the XGBClassifier from the xgboost library\n",
    "from xgboost import XGBClassifier"
   ]
  },
  {
   "cell_type": "code",
   "execution_count": 2,
   "id": "e17296c1",
   "metadata": {},
   "outputs": [],
   "source": [
    "# Reading training data\n",
    "\n",
    "data = pd.read_csv('Downloads/Traveldata_train.csv')\n",
    "Survey = pd.read_csv('Downloads/Surveydata_train.csv')"
   ]
  },
  {
   "cell_type": "code",
   "execution_count": 3,
   "id": "62e4aeae",
   "metadata": {},
   "outputs": [
    {
     "name": "stdout",
     "output_type": "stream",
     "text": [
      "\n",
      "\n"
     ]
    },
    {
     "data": {
      "text/html": [
       "<div>\n",
       "<style scoped>\n",
       "    .dataframe tbody tr th:only-of-type {\n",
       "        vertical-align: middle;\n",
       "    }\n",
       "\n",
       "    .dataframe tbody tr th {\n",
       "        vertical-align: top;\n",
       "    }\n",
       "\n",
       "    .dataframe thead th {\n",
       "        text-align: right;\n",
       "    }\n",
       "</style>\n",
       "<table border=\"1\" class=\"dataframe\">\n",
       "  <thead>\n",
       "    <tr style=\"text-align: right;\">\n",
       "      <th></th>\n",
       "      <th>ID</th>\n",
       "      <th>Overall_Experience</th>\n",
       "      <th>Seat_Comfort</th>\n",
       "      <th>Seat_Class</th>\n",
       "      <th>Arrival_Time_Convenient</th>\n",
       "      <th>Catering</th>\n",
       "      <th>Platform_Location</th>\n",
       "      <th>Onboard_Wifi_Service</th>\n",
       "      <th>Onboard_Entertainment</th>\n",
       "      <th>Online_Support</th>\n",
       "      <th>Ease_of_Online_Booking</th>\n",
       "      <th>Onboard_Service</th>\n",
       "      <th>Legroom</th>\n",
       "      <th>Baggage_Handling</th>\n",
       "      <th>CheckIn_Service</th>\n",
       "      <th>Cleanliness</th>\n",
       "      <th>Online_Boarding</th>\n",
       "    </tr>\n",
       "  </thead>\n",
       "  <tbody>\n",
       "    <tr>\n",
       "      <th>0</th>\n",
       "      <td>98800001</td>\n",
       "      <td>0</td>\n",
       "      <td>Needs Improvement</td>\n",
       "      <td>Green Car</td>\n",
       "      <td>Excellent</td>\n",
       "      <td>Excellent</td>\n",
       "      <td>Very Convenient</td>\n",
       "      <td>Good</td>\n",
       "      <td>Needs Improvement</td>\n",
       "      <td>Acceptable</td>\n",
       "      <td>Needs Improvement</td>\n",
       "      <td>Needs Improvement</td>\n",
       "      <td>Acceptable</td>\n",
       "      <td>Needs Improvement</td>\n",
       "      <td>Good</td>\n",
       "      <td>Needs Improvement</td>\n",
       "      <td>Poor</td>\n",
       "    </tr>\n",
       "    <tr>\n",
       "      <th>1</th>\n",
       "      <td>98800002</td>\n",
       "      <td>0</td>\n",
       "      <td>Poor</td>\n",
       "      <td>Ordinary</td>\n",
       "      <td>Excellent</td>\n",
       "      <td>Poor</td>\n",
       "      <td>Needs Improvement</td>\n",
       "      <td>Good</td>\n",
       "      <td>Poor</td>\n",
       "      <td>Good</td>\n",
       "      <td>Good</td>\n",
       "      <td>Excellent</td>\n",
       "      <td>Needs Improvement</td>\n",
       "      <td>Poor</td>\n",
       "      <td>Needs Improvement</td>\n",
       "      <td>Good</td>\n",
       "      <td>Good</td>\n",
       "    </tr>\n",
       "    <tr>\n",
       "      <th>2</th>\n",
       "      <td>98800003</td>\n",
       "      <td>1</td>\n",
       "      <td>Needs Improvement</td>\n",
       "      <td>Green Car</td>\n",
       "      <td>Needs Improvement</td>\n",
       "      <td>Needs Improvement</td>\n",
       "      <td>Needs Improvement</td>\n",
       "      <td>Needs Improvement</td>\n",
       "      <td>Good</td>\n",
       "      <td>Excellent</td>\n",
       "      <td>Excellent</td>\n",
       "      <td>Excellent</td>\n",
       "      <td>Excellent</td>\n",
       "      <td>Excellent</td>\n",
       "      <td>Good</td>\n",
       "      <td>Excellent</td>\n",
       "      <td>Excellent</td>\n",
       "    </tr>\n",
       "    <tr>\n",
       "      <th>3</th>\n",
       "      <td>98800004</td>\n",
       "      <td>0</td>\n",
       "      <td>Acceptable</td>\n",
       "      <td>Ordinary</td>\n",
       "      <td>Needs Improvement</td>\n",
       "      <td>NaN</td>\n",
       "      <td>Needs Improvement</td>\n",
       "      <td>Acceptable</td>\n",
       "      <td>Needs Improvement</td>\n",
       "      <td>Acceptable</td>\n",
       "      <td>Acceptable</td>\n",
       "      <td>Acceptable</td>\n",
       "      <td>Acceptable</td>\n",
       "      <td>Acceptable</td>\n",
       "      <td>Good</td>\n",
       "      <td>Acceptable</td>\n",
       "      <td>Acceptable</td>\n",
       "    </tr>\n",
       "    <tr>\n",
       "      <th>4</th>\n",
       "      <td>98800005</td>\n",
       "      <td>1</td>\n",
       "      <td>Acceptable</td>\n",
       "      <td>Ordinary</td>\n",
       "      <td>Acceptable</td>\n",
       "      <td>Acceptable</td>\n",
       "      <td>Manageable</td>\n",
       "      <td>Needs Improvement</td>\n",
       "      <td>Good</td>\n",
       "      <td>Excellent</td>\n",
       "      <td>Good</td>\n",
       "      <td>Good</td>\n",
       "      <td>Good</td>\n",
       "      <td>Good</td>\n",
       "      <td>Good</td>\n",
       "      <td>Good</td>\n",
       "      <td>Good</td>\n",
       "    </tr>\n",
       "  </tbody>\n",
       "</table>\n",
       "</div>"
      ],
      "text/plain": [
       "         ID  Overall_Experience       Seat_Comfort Seat_Class  \\\n",
       "0  98800001                   0  Needs Improvement  Green Car   \n",
       "1  98800002                   0               Poor   Ordinary   \n",
       "2  98800003                   1  Needs Improvement  Green Car   \n",
       "3  98800004                   0         Acceptable   Ordinary   \n",
       "4  98800005                   1         Acceptable   Ordinary   \n",
       "\n",
       "  Arrival_Time_Convenient           Catering  Platform_Location  \\\n",
       "0               Excellent          Excellent    Very Convenient   \n",
       "1               Excellent               Poor  Needs Improvement   \n",
       "2       Needs Improvement  Needs Improvement  Needs Improvement   \n",
       "3       Needs Improvement                NaN  Needs Improvement   \n",
       "4              Acceptable         Acceptable         Manageable   \n",
       "\n",
       "  Onboard_Wifi_Service Onboard_Entertainment Online_Support  \\\n",
       "0                 Good     Needs Improvement     Acceptable   \n",
       "1                 Good                  Poor           Good   \n",
       "2    Needs Improvement                  Good      Excellent   \n",
       "3           Acceptable     Needs Improvement     Acceptable   \n",
       "4    Needs Improvement                  Good      Excellent   \n",
       "\n",
       "  Ease_of_Online_Booking    Onboard_Service            Legroom  \\\n",
       "0      Needs Improvement  Needs Improvement         Acceptable   \n",
       "1                   Good          Excellent  Needs Improvement   \n",
       "2              Excellent          Excellent          Excellent   \n",
       "3             Acceptable         Acceptable         Acceptable   \n",
       "4                   Good               Good               Good   \n",
       "\n",
       "    Baggage_Handling    CheckIn_Service        Cleanliness Online_Boarding  \n",
       "0  Needs Improvement               Good  Needs Improvement            Poor  \n",
       "1               Poor  Needs Improvement               Good            Good  \n",
       "2          Excellent               Good          Excellent       Excellent  \n",
       "3         Acceptable               Good         Acceptable      Acceptable  \n",
       "4               Good               Good               Good            Good  "
      ]
     },
     "execution_count": 3,
     "metadata": {},
     "output_type": "execute_result"
    }
   ],
   "source": [
    "data.head(5)\n",
    "print('\\n')\n",
    "Survey.head(5)"
   ]
  },
  {
   "cell_type": "code",
   "execution_count": 4,
   "id": "bec20152",
   "metadata": {},
   "outputs": [
    {
     "data": {
      "text/plain": [
       "((94379, 9), (94379, 17))"
      ]
     },
     "execution_count": 4,
     "metadata": {},
     "output_type": "execute_result"
    }
   ],
   "source": [
    "data.shape, Survey.shape"
   ]
  },
  {
   "cell_type": "code",
   "execution_count": 5,
   "id": "40e0b87e",
   "metadata": {},
   "outputs": [
    {
     "data": {
      "text/html": [
       "<div>\n",
       "<style scoped>\n",
       "    .dataframe tbody tr th:only-of-type {\n",
       "        vertical-align: middle;\n",
       "    }\n",
       "\n",
       "    .dataframe tbody tr th {\n",
       "        vertical-align: top;\n",
       "    }\n",
       "\n",
       "    .dataframe thead th {\n",
       "        text-align: right;\n",
       "    }\n",
       "</style>\n",
       "<table border=\"1\" class=\"dataframe\">\n",
       "  <thead>\n",
       "    <tr style=\"text-align: right;\">\n",
       "      <th></th>\n",
       "      <th>ID</th>\n",
       "      <th>Gender</th>\n",
       "      <th>Customer_Type</th>\n",
       "      <th>Age</th>\n",
       "      <th>Type_Travel</th>\n",
       "      <th>Travel_Class</th>\n",
       "      <th>Travel_Distance</th>\n",
       "      <th>Departure_Delay_in_Mins</th>\n",
       "      <th>Arrival_Delay_in_Mins</th>\n",
       "      <th>Overall_Experience</th>\n",
       "      <th>...</th>\n",
       "      <th>Onboard_Wifi_Service</th>\n",
       "      <th>Onboard_Entertainment</th>\n",
       "      <th>Online_Support</th>\n",
       "      <th>Ease_of_Online_Booking</th>\n",
       "      <th>Onboard_Service</th>\n",
       "      <th>Legroom</th>\n",
       "      <th>Baggage_Handling</th>\n",
       "      <th>CheckIn_Service</th>\n",
       "      <th>Cleanliness</th>\n",
       "      <th>Online_Boarding</th>\n",
       "    </tr>\n",
       "  </thead>\n",
       "  <tbody>\n",
       "    <tr>\n",
       "      <th>0</th>\n",
       "      <td>98800001</td>\n",
       "      <td>Female</td>\n",
       "      <td>Loyal Customer</td>\n",
       "      <td>52.0</td>\n",
       "      <td>NaN</td>\n",
       "      <td>Business</td>\n",
       "      <td>272</td>\n",
       "      <td>0.0</td>\n",
       "      <td>5.0</td>\n",
       "      <td>0</td>\n",
       "      <td>...</td>\n",
       "      <td>Good</td>\n",
       "      <td>Needs Improvement</td>\n",
       "      <td>Acceptable</td>\n",
       "      <td>Needs Improvement</td>\n",
       "      <td>Needs Improvement</td>\n",
       "      <td>Acceptable</td>\n",
       "      <td>Needs Improvement</td>\n",
       "      <td>Good</td>\n",
       "      <td>Needs Improvement</td>\n",
       "      <td>Poor</td>\n",
       "    </tr>\n",
       "    <tr>\n",
       "      <th>1</th>\n",
       "      <td>98800002</td>\n",
       "      <td>Male</td>\n",
       "      <td>Loyal Customer</td>\n",
       "      <td>48.0</td>\n",
       "      <td>Personal Travel</td>\n",
       "      <td>Eco</td>\n",
       "      <td>2200</td>\n",
       "      <td>9.0</td>\n",
       "      <td>0.0</td>\n",
       "      <td>0</td>\n",
       "      <td>...</td>\n",
       "      <td>Good</td>\n",
       "      <td>Poor</td>\n",
       "      <td>Good</td>\n",
       "      <td>Good</td>\n",
       "      <td>Excellent</td>\n",
       "      <td>Needs Improvement</td>\n",
       "      <td>Poor</td>\n",
       "      <td>Needs Improvement</td>\n",
       "      <td>Good</td>\n",
       "      <td>Good</td>\n",
       "    </tr>\n",
       "    <tr>\n",
       "      <th>2</th>\n",
       "      <td>98800003</td>\n",
       "      <td>Female</td>\n",
       "      <td>Loyal Customer</td>\n",
       "      <td>43.0</td>\n",
       "      <td>Business Travel</td>\n",
       "      <td>Business</td>\n",
       "      <td>1061</td>\n",
       "      <td>77.0</td>\n",
       "      <td>119.0</td>\n",
       "      <td>1</td>\n",
       "      <td>...</td>\n",
       "      <td>Needs Improvement</td>\n",
       "      <td>Good</td>\n",
       "      <td>Excellent</td>\n",
       "      <td>Excellent</td>\n",
       "      <td>Excellent</td>\n",
       "      <td>Excellent</td>\n",
       "      <td>Excellent</td>\n",
       "      <td>Good</td>\n",
       "      <td>Excellent</td>\n",
       "      <td>Excellent</td>\n",
       "    </tr>\n",
       "    <tr>\n",
       "      <th>3</th>\n",
       "      <td>98800004</td>\n",
       "      <td>Female</td>\n",
       "      <td>Loyal Customer</td>\n",
       "      <td>44.0</td>\n",
       "      <td>Business Travel</td>\n",
       "      <td>Business</td>\n",
       "      <td>780</td>\n",
       "      <td>13.0</td>\n",
       "      <td>18.0</td>\n",
       "      <td>0</td>\n",
       "      <td>...</td>\n",
       "      <td>Acceptable</td>\n",
       "      <td>Needs Improvement</td>\n",
       "      <td>Acceptable</td>\n",
       "      <td>Acceptable</td>\n",
       "      <td>Acceptable</td>\n",
       "      <td>Acceptable</td>\n",
       "      <td>Acceptable</td>\n",
       "      <td>Good</td>\n",
       "      <td>Acceptable</td>\n",
       "      <td>Acceptable</td>\n",
       "    </tr>\n",
       "    <tr>\n",
       "      <th>4</th>\n",
       "      <td>98800005</td>\n",
       "      <td>Female</td>\n",
       "      <td>Loyal Customer</td>\n",
       "      <td>50.0</td>\n",
       "      <td>Business Travel</td>\n",
       "      <td>Business</td>\n",
       "      <td>1981</td>\n",
       "      <td>0.0</td>\n",
       "      <td>0.0</td>\n",
       "      <td>1</td>\n",
       "      <td>...</td>\n",
       "      <td>Needs Improvement</td>\n",
       "      <td>Good</td>\n",
       "      <td>Excellent</td>\n",
       "      <td>Good</td>\n",
       "      <td>Good</td>\n",
       "      <td>Good</td>\n",
       "      <td>Good</td>\n",
       "      <td>Good</td>\n",
       "      <td>Good</td>\n",
       "      <td>Good</td>\n",
       "    </tr>\n",
       "  </tbody>\n",
       "</table>\n",
       "<p>5 rows × 25 columns</p>\n",
       "</div>"
      ],
      "text/plain": [
       "         ID  Gender   Customer_Type   Age      Type_Travel Travel_Class  \\\n",
       "0  98800001  Female  Loyal Customer  52.0              NaN     Business   \n",
       "1  98800002    Male  Loyal Customer  48.0  Personal Travel          Eco   \n",
       "2  98800003  Female  Loyal Customer  43.0  Business Travel     Business   \n",
       "3  98800004  Female  Loyal Customer  44.0  Business Travel     Business   \n",
       "4  98800005  Female  Loyal Customer  50.0  Business Travel     Business   \n",
       "\n",
       "   Travel_Distance  Departure_Delay_in_Mins  Arrival_Delay_in_Mins  \\\n",
       "0              272                      0.0                    5.0   \n",
       "1             2200                      9.0                    0.0   \n",
       "2             1061                     77.0                  119.0   \n",
       "3              780                     13.0                   18.0   \n",
       "4             1981                      0.0                    0.0   \n",
       "\n",
       "   Overall_Experience  ... Onboard_Wifi_Service Onboard_Entertainment  \\\n",
       "0                   0  ...                 Good     Needs Improvement   \n",
       "1                   0  ...                 Good                  Poor   \n",
       "2                   1  ...    Needs Improvement                  Good   \n",
       "3                   0  ...           Acceptable     Needs Improvement   \n",
       "4                   1  ...    Needs Improvement                  Good   \n",
       "\n",
       "  Online_Support Ease_of_Online_Booking    Onboard_Service            Legroom  \\\n",
       "0     Acceptable      Needs Improvement  Needs Improvement         Acceptable   \n",
       "1           Good                   Good          Excellent  Needs Improvement   \n",
       "2      Excellent              Excellent          Excellent          Excellent   \n",
       "3     Acceptable             Acceptable         Acceptable         Acceptable   \n",
       "4      Excellent                   Good               Good               Good   \n",
       "\n",
       "    Baggage_Handling    CheckIn_Service        Cleanliness Online_Boarding  \n",
       "0  Needs Improvement               Good  Needs Improvement            Poor  \n",
       "1               Poor  Needs Improvement               Good            Good  \n",
       "2          Excellent               Good          Excellent       Excellent  \n",
       "3         Acceptable               Good         Acceptable      Acceptable  \n",
       "4               Good               Good               Good            Good  \n",
       "\n",
       "[5 rows x 25 columns]"
      ]
     },
     "execution_count": 5,
     "metadata": {},
     "output_type": "execute_result"
    }
   ],
   "source": [
    "# Merging the 2 datasets as both have features valuable to train our model\n",
    "\n",
    "train = pd.merge(data, Survey, on = 'ID')\n",
    "train.head(5)"
   ]
  },
  {
   "cell_type": "code",
   "execution_count": 6,
   "id": "35b8c197",
   "metadata": {},
   "outputs": [],
   "source": [
    "# Reading test data\n",
    "\n",
    "data_test = pd.read_csv('Downloads/Traveldata_test.csv')\n",
    "Survey_test = pd.read_csv('Downloads/Surveydata_test.csv')"
   ]
  },
  {
   "cell_type": "code",
   "execution_count": 7,
   "id": "7e023d2f",
   "metadata": {},
   "outputs": [
    {
     "name": "stdout",
     "output_type": "stream",
     "text": [
      "\n",
      "\n"
     ]
    },
    {
     "data": {
      "text/html": [
       "<div>\n",
       "<style scoped>\n",
       "    .dataframe tbody tr th:only-of-type {\n",
       "        vertical-align: middle;\n",
       "    }\n",
       "\n",
       "    .dataframe tbody tr th {\n",
       "        vertical-align: top;\n",
       "    }\n",
       "\n",
       "    .dataframe thead th {\n",
       "        text-align: right;\n",
       "    }\n",
       "</style>\n",
       "<table border=\"1\" class=\"dataframe\">\n",
       "  <thead>\n",
       "    <tr style=\"text-align: right;\">\n",
       "      <th></th>\n",
       "      <th>ID</th>\n",
       "      <th>Seat_Comfort</th>\n",
       "      <th>Seat_Class</th>\n",
       "      <th>Arrival_Time_Convenient</th>\n",
       "      <th>Catering</th>\n",
       "      <th>Platform_Location</th>\n",
       "      <th>Onboard_Wifi_Service</th>\n",
       "      <th>Onboard_Entertainment</th>\n",
       "      <th>Online_Support</th>\n",
       "      <th>Ease_of_Online_Booking</th>\n",
       "      <th>Onboard_Service</th>\n",
       "      <th>Legroom</th>\n",
       "      <th>Baggage_Handling</th>\n",
       "      <th>CheckIn_Service</th>\n",
       "      <th>Cleanliness</th>\n",
       "      <th>Online_Boarding</th>\n",
       "    </tr>\n",
       "  </thead>\n",
       "  <tbody>\n",
       "    <tr>\n",
       "      <th>0</th>\n",
       "      <td>99900001</td>\n",
       "      <td>Acceptable</td>\n",
       "      <td>Green Car</td>\n",
       "      <td>Acceptable</td>\n",
       "      <td>Acceptable</td>\n",
       "      <td>Manageable</td>\n",
       "      <td>Needs Improvement</td>\n",
       "      <td>Excellent</td>\n",
       "      <td>Good</td>\n",
       "      <td>Excellent</td>\n",
       "      <td>Excellent</td>\n",
       "      <td>Excellent</td>\n",
       "      <td>Excellent</td>\n",
       "      <td>Good</td>\n",
       "      <td>Excellent</td>\n",
       "      <td>Poor</td>\n",
       "    </tr>\n",
       "    <tr>\n",
       "      <th>1</th>\n",
       "      <td>99900002</td>\n",
       "      <td>Extremely Poor</td>\n",
       "      <td>Ordinary</td>\n",
       "      <td>Good</td>\n",
       "      <td>Poor</td>\n",
       "      <td>Manageable</td>\n",
       "      <td>Acceptable</td>\n",
       "      <td>Poor</td>\n",
       "      <td>Acceptable</td>\n",
       "      <td>Acceptable</td>\n",
       "      <td>Excellent</td>\n",
       "      <td>Acceptable</td>\n",
       "      <td>Good</td>\n",
       "      <td>Acceptable</td>\n",
       "      <td>Excellent</td>\n",
       "      <td>Acceptable</td>\n",
       "    </tr>\n",
       "    <tr>\n",
       "      <th>2</th>\n",
       "      <td>99900003</td>\n",
       "      <td>Excellent</td>\n",
       "      <td>Ordinary</td>\n",
       "      <td>Excellent</td>\n",
       "      <td>Excellent</td>\n",
       "      <td>Very Convenient</td>\n",
       "      <td>Excellent</td>\n",
       "      <td>Excellent</td>\n",
       "      <td>Excellent</td>\n",
       "      <td>Needs Improvement</td>\n",
       "      <td>Needs Improvement</td>\n",
       "      <td>Needs Improvement</td>\n",
       "      <td>Needs Improvement</td>\n",
       "      <td>Good</td>\n",
       "      <td>Needs Improvement</td>\n",
       "      <td>Excellent</td>\n",
       "    </tr>\n",
       "    <tr>\n",
       "      <th>3</th>\n",
       "      <td>99900004</td>\n",
       "      <td>Acceptable</td>\n",
       "      <td>Green Car</td>\n",
       "      <td>Excellent</td>\n",
       "      <td>Acceptable</td>\n",
       "      <td>Very Convenient</td>\n",
       "      <td>Poor</td>\n",
       "      <td>Acceptable</td>\n",
       "      <td>Excellent</td>\n",
       "      <td>Poor</td>\n",
       "      <td>Acceptable</td>\n",
       "      <td>Needs Improvement</td>\n",
       "      <td>Excellent</td>\n",
       "      <td>Excellent</td>\n",
       "      <td>Excellent</td>\n",
       "      <td>Poor</td>\n",
       "    </tr>\n",
       "    <tr>\n",
       "      <th>4</th>\n",
       "      <td>99900005</td>\n",
       "      <td>Excellent</td>\n",
       "      <td>Ordinary</td>\n",
       "      <td>Extremely Poor</td>\n",
       "      <td>Excellent</td>\n",
       "      <td>Needs Improvement</td>\n",
       "      <td>Excellent</td>\n",
       "      <td>Excellent</td>\n",
       "      <td>Excellent</td>\n",
       "      <td>Excellent</td>\n",
       "      <td>NaN</td>\n",
       "      <td>Acceptable</td>\n",
       "      <td>Excellent</td>\n",
       "      <td>Excellent</td>\n",
       "      <td>Excellent</td>\n",
       "      <td>Excellent</td>\n",
       "    </tr>\n",
       "  </tbody>\n",
       "</table>\n",
       "</div>"
      ],
      "text/plain": [
       "         ID    Seat_Comfort Seat_Class Arrival_Time_Convenient    Catering  \\\n",
       "0  99900001      Acceptable  Green Car              Acceptable  Acceptable   \n",
       "1  99900002  Extremely Poor   Ordinary                    Good        Poor   \n",
       "2  99900003       Excellent   Ordinary               Excellent   Excellent   \n",
       "3  99900004      Acceptable  Green Car               Excellent  Acceptable   \n",
       "4  99900005       Excellent   Ordinary          Extremely Poor   Excellent   \n",
       "\n",
       "   Platform_Location Onboard_Wifi_Service Onboard_Entertainment  \\\n",
       "0         Manageable    Needs Improvement             Excellent   \n",
       "1         Manageable           Acceptable                  Poor   \n",
       "2    Very Convenient            Excellent             Excellent   \n",
       "3    Very Convenient                 Poor            Acceptable   \n",
       "4  Needs Improvement            Excellent             Excellent   \n",
       "\n",
       "  Online_Support Ease_of_Online_Booking    Onboard_Service            Legroom  \\\n",
       "0           Good              Excellent          Excellent          Excellent   \n",
       "1     Acceptable             Acceptable          Excellent         Acceptable   \n",
       "2      Excellent      Needs Improvement  Needs Improvement  Needs Improvement   \n",
       "3      Excellent                   Poor         Acceptable  Needs Improvement   \n",
       "4      Excellent              Excellent                NaN         Acceptable   \n",
       "\n",
       "    Baggage_Handling CheckIn_Service        Cleanliness Online_Boarding  \n",
       "0          Excellent            Good          Excellent            Poor  \n",
       "1               Good      Acceptable          Excellent      Acceptable  \n",
       "2  Needs Improvement            Good  Needs Improvement       Excellent  \n",
       "3          Excellent       Excellent          Excellent            Poor  \n",
       "4          Excellent       Excellent          Excellent       Excellent  "
      ]
     },
     "execution_count": 7,
     "metadata": {},
     "output_type": "execute_result"
    }
   ],
   "source": [
    "data_test.head(5)\n",
    "print('\\n')\n",
    "Survey_test.head(5)"
   ]
  },
  {
   "cell_type": "code",
   "execution_count": 8,
   "id": "64e7fec3",
   "metadata": {},
   "outputs": [
    {
     "name": "stdout",
     "output_type": "stream",
     "text": [
      "<class 'pandas.core.frame.DataFrame'>\n",
      "Int64Index: 94379 entries, 0 to 94378\n",
      "Data columns (total 25 columns):\n",
      " #   Column                   Non-Null Count  Dtype  \n",
      "---  ------                   --------------  -----  \n",
      " 0   ID                       94379 non-null  int64  \n",
      " 1   Gender                   94302 non-null  object \n",
      " 2   Customer_Type            85428 non-null  object \n",
      " 3   Age                      94346 non-null  float64\n",
      " 4   Type_Travel              85153 non-null  object \n",
      " 5   Travel_Class             94379 non-null  object \n",
      " 6   Travel_Distance          94379 non-null  int64  \n",
      " 7   Departure_Delay_in_Mins  94322 non-null  float64\n",
      " 8   Arrival_Delay_in_Mins    94022 non-null  float64\n",
      " 9   Overall_Experience       94379 non-null  int64  \n",
      " 10  Seat_Comfort             94318 non-null  object \n",
      " 11  Seat_Class               94379 non-null  object \n",
      " 12  Arrival_Time_Convenient  85449 non-null  object \n",
      " 13  Catering                 85638 non-null  object \n",
      " 14  Platform_Location        94349 non-null  object \n",
      " 15  Onboard_Wifi_Service     94349 non-null  object \n",
      " 16  Onboard_Entertainment    94361 non-null  object \n",
      " 17  Online_Support           94288 non-null  object \n",
      " 18  Ease_of_Online_Booking   94306 non-null  object \n",
      " 19  Onboard_Service          86778 non-null  object \n",
      " 20  Legroom                  94289 non-null  object \n",
      " 21  Baggage_Handling         94237 non-null  object \n",
      " 22  CheckIn_Service          94302 non-null  object \n",
      " 23  Cleanliness              94373 non-null  object \n",
      " 24  Online_Boarding          94373 non-null  object \n",
      "dtypes: float64(3), int64(3), object(19)\n",
      "memory usage: 18.7+ MB\n"
     ]
    }
   ],
   "source": [
    "train.info()"
   ]
  },
  {
   "cell_type": "markdown",
   "id": "6fff6e7b",
   "metadata": {},
   "source": [
    "**Observations:**\n",
    "\n",
    "- There are 94379 rows and 25 columns in the training data.\n",
    "- The columns Customer_Type, Type_Travel, Arrival_Time_Convenient, and Onboard_Service have missing values.\n",
    "- We will drop the ID column as it does not add any value to the model."
   ]
  },
  {
   "cell_type": "code",
   "execution_count": 9,
   "id": "c168890e",
   "metadata": {},
   "outputs": [],
   "source": [
    "train1 = train.copy()"
   ]
  },
  {
   "cell_type": "code",
   "execution_count": 10,
   "id": "1504139e",
   "metadata": {},
   "outputs": [],
   "source": [
    "# Dropping ID column\n",
    "\n",
    "train1.drop('ID', axis = 1, inplace = True)"
   ]
  },
  {
   "cell_type": "markdown",
   "id": "de6d88f5",
   "metadata": {},
   "source": [
    "**Missing Value treatment**"
   ]
  },
  {
   "cell_type": "code",
   "execution_count": 11,
   "id": "e37faa0d",
   "metadata": {},
   "outputs": [
    {
     "data": {
      "text/plain": [
       "ID                         0.000000\n",
       "Gender                     0.081586\n",
       "Customer_Type              9.484101\n",
       "Age                        0.034965\n",
       "Type_Travel                9.775480\n",
       "Travel_Class               0.000000\n",
       "Travel_Distance            0.000000\n",
       "Departure_Delay_in_Mins    0.060395\n",
       "Arrival_Delay_in_Mins      0.378262\n",
       "Overall_Experience         0.000000\n",
       "Seat_Comfort               0.064633\n",
       "Seat_Class                 0.000000\n",
       "Arrival_Time_Convenient    9.461851\n",
       "Catering                   9.261594\n",
       "Platform_Location          0.031787\n",
       "Onboard_Wifi_Service       0.031787\n",
       "Onboard_Entertainment      0.019072\n",
       "Online_Support             0.096420\n",
       "Ease_of_Online_Booking     0.077348\n",
       "Onboard_Service            8.053698\n",
       "Legroom                    0.095360\n",
       "Baggage_Handling           0.150457\n",
       "CheckIn_Service            0.081586\n",
       "Cleanliness                0.006357\n",
       "Online_Boarding            0.006357\n",
       "dtype: float64"
      ]
     },
     "execution_count": 11,
     "metadata": {},
     "output_type": "execute_result"
    }
   ],
   "source": [
    "# Rate of missing values by columns.\n",
    "\n",
    "train1.isna().sum() / train1.shape[0] * 100"
   ]
  },
  {
   "cell_type": "code",
   "execution_count": 12,
   "id": "979a02c3",
   "metadata": {},
   "outputs": [],
   "source": [
    "# Dropping rows with null values from columns below.\n",
    "\n",
    "train1 = train1[train1['Gender'].notnull()]\n",
    "train1 = train1[train1['Customer_Type'].notnull()]\n",
    "train1 = train1[train1['Type_Travel'].notnull()]"
   ]
  },
  {
   "cell_type": "code",
   "execution_count": 13,
   "id": "b8d09faa",
   "metadata": {},
   "outputs": [
    {
     "data": {
      "text/plain": [
       "14.708883521906913"
      ]
     },
     "execution_count": 13,
     "metadata": {},
     "output_type": "execute_result"
    }
   ],
   "source": [
    "# Evaluating mean of the column\n",
    "\n",
    "train1['Departure_Delay_in_Mins'].mean()"
   ]
  },
  {
   "cell_type": "code",
   "execution_count": 14,
   "id": "9c424a20",
   "metadata": {},
   "outputs": [],
   "source": [
    "# Replacing null values with mean of column.\n",
    "\n",
    "train1['Departure_Delay_in_Mins'] = train1['Departure_Delay_in_Mins'].fillna(train1['Departure_Delay_in_Mins'].mean())\n",
    "train1['Arrival_Delay_in_Mins'] = train1['Arrival_Delay_in_Mins'].fillna(train1['Arrival_Delay_in_Mins'].mean())"
   ]
  },
  {
   "cell_type": "code",
   "execution_count": 15,
   "id": "8633df0b",
   "metadata": {},
   "outputs": [
    {
     "data": {
      "image/png": "[encoded data removed]",
      "text/plain": [
       "<Figure size 1296x432 with 3 Axes>"
      ]
     },
     "metadata": {
      "needs_background": "light"
     },
     "output_type": "display_data"
    }
   ],
   "source": [
    "# Seat_Comfort Missing Value Treatment\n",
    "\n",
    "# Creating a DataFrame for rows where Seat_Comfort has missing value\n",
    "Seat_Comfort_missing_data = train1[train1['Seat_Comfort'].isnull()]\n",
    "\n",
    "\n",
    "# Plotting the distribution of Seat_Class and Travel_class where Seat_Comfort missing value\n",
    "fig, axes = plt.subplots(1, 3, figsize = (18, 6))\n",
    "  \n",
    "fig.suptitle('Bar plot for all categorical variables in the dataset where the variable Seat_Comfort is missing')\n",
    "  \n",
    "sns.countplot(ax = axes[0], x = 'Seat_Class', data = Seat_Comfort_missing_data, color = 'blue', \n",
    "              order = Seat_Comfort_missing_data['Seat_Class'].value_counts().index);\n",
    "\n",
    "sns.countplot(ax = axes[1], x = 'Legroom', data = Seat_Comfort_missing_data, color = 'blue', \n",
    "              order = Seat_Comfort_missing_data['Legroom'].value_counts().index);\n",
    "\n",
    "sns.countplot(ax = axes[2], x = 'Travel_Class', data = Seat_Comfort_missing_data, color = 'blue', \n",
    "              order = Seat_Comfort_missing_data['Travel_Class'].value_counts().index);"
   ]
  },
  {
   "cell_type": "markdown",
   "id": "f0828573",
   "metadata": {},
   "source": [
    "**Observation:**\n",
    "\n",
    "- By analysing the relationship between Travel_Class and Seat_Comfort, we can deduce estimated values for missing values in the Seat_Comfort column."
   ]
  },
  {
   "cell_type": "code",
   "execution_count": 16,
   "id": "095fc285",
   "metadata": {},
   "outputs": [
    {
     "data": {
      "image/png": "[encoded data removed]",
      "text/plain": [
       "<Figure size 1296x216 with 2 Axes>"
      ]
     },
     "metadata": {
      "needs_background": "light"
     },
     "output_type": "display_data"
    }
   ],
   "source": [
    "# Correlation heat map table to show relationship between 2 categorical variables.\n",
    "\n",
    "fig= plt.figure(figsize = (18, 3))\n",
    "\n",
    "sns.heatmap(pd.crosstab(index = train1['Travel_Class'], columns = train1['Seat_Comfort']), annot = True, fmt = 'g')\n",
    "\n",
    "plt.xticks(rotation = 45);"
   ]
  },
  {
   "cell_type": "markdown",
   "id": "db6d7977",
   "metadata": {},
   "source": [
    "**Observation:**\n",
    "\n",
    "- Correlation table shows that, for 'Eco' Travel_Class column the most common category 'Seat_Comfort' column is Good and for 'Business' Travel_Class column the most common 'Seat_Confort' is Needs Improvement.\n",
    "- We will replace missing values in 'Seat Comfort' column, with 'Good\" and 'Needs Improvement\" depending on the corresponding category for Travel_Class in the missing value row.  "
   ]
  },
  {
   "cell_type": "code",
   "execution_count": 17,
   "id": "9322c532",
   "metadata": {},
   "outputs": [],
   "source": [
    "# Fetching index of rows where Travel_Class is 'Eco' and 'Business' in the Seat_Comfort missing values dataframe\n",
    "\n",
    "SC_missing_indices1 = train1[train1['Seat_Comfort'].isnull()].query(\" Travel_Class == 'Eco' \").index\n",
    "SC_missing_indices2 = train1[train1['Seat_Comfort'].isnull()].query(\" Travel_Class == 'Business' \").index"
   ]
  },
  {
   "cell_type": "code",
   "execution_count": 18,
   "id": "5d64f7e4",
   "metadata": {},
   "outputs": [
    {
     "data": {
      "text/plain": [
       "Acceptable           17080\n",
       "Needs Improvement    16967\n",
       "Good                 16621\n",
       "Poor                 12212\n",
       "Excellent            10484\n",
       "Extremely Poor        2793\n",
       "Name: Seat_Comfort, dtype: int64"
      ]
     },
     "execution_count": 18,
     "metadata": {},
     "output_type": "execute_result"
    }
   ],
   "source": [
    "train1['Seat_Comfort'].value_counts()"
   ]
  },
  {
   "cell_type": "code",
   "execution_count": 19,
   "id": "678d63f2",
   "metadata": {},
   "outputs": [],
   "source": [
    "# Replacing the Seat_Comfort missing values\n",
    "\n",
    "train1.loc[SC_missing_indices1, 'Seat_Comfort'] = 'Good'\n",
    "\n",
    "train1.loc[SC_missing_indices2, 'Seat_Comfort'] = 'Needs Improvement'"
   ]
  },
  {
   "cell_type": "code",
   "execution_count": 20,
   "id": "7430f575",
   "metadata": {},
   "outputs": [
    {
     "data": {
      "text/plain": [
       "Acceptable           17080\n",
       "Needs Improvement    16986\n",
       "Good                 16653\n",
       "Poor                 12212\n",
       "Excellent            10484\n",
       "Extremely Poor        2793\n",
       "Name: Seat_Comfort, dtype: int64"
      ]
     },
     "execution_count": 20,
     "metadata": {},
     "output_type": "execute_result"
    }
   ],
   "source": [
    "# Checking for categories in the variable\n",
    "\n",
    "train1['Seat_Comfort'].value_counts()"
   ]
  },
  {
   "cell_type": "code",
   "execution_count": 21,
   "id": "7d5088c7",
   "metadata": {},
   "outputs": [
    {
     "data": {
      "text/plain": [
       "Good                 15785\n",
       "Excellent            14276\n",
       "Acceptable           12245\n",
       "Needs Improvement    12147\n",
       "Poor                 11032\n",
       "Extremely Poor        3492\n",
       "Name: Arrival_Time_Convenient, dtype: int64"
      ]
     },
     "execution_count": 21,
     "metadata": {},
     "output_type": "execute_result"
    }
   ],
   "source": [
    "# Arrival_Time_Convenient Missing Value Treatment\n",
    "# Checking for categories in the variable\n",
    "\n",
    "train1['Arrival_Time_Convenient'].value_counts()"
   ]
  },
  {
   "cell_type": "code",
   "execution_count": 22,
   "id": "6898b72d",
   "metadata": {},
   "outputs": [
    {
     "data": {
      "image/png": "[encoded data removed]",
      "text/plain": [
       "<Figure size 1440x864 with 1 Axes>"
      ]
     },
     "metadata": {
      "needs_background": "light"
     },
     "output_type": "display_data"
    }
   ],
   "source": [
    "# Correlation heat map table to show relationship between 2 categorical variables.\n",
    "\n",
    "plt.figure(figsize = (20, 12))\n",
    "\n",
    "sns.boxplot(x=\"Arrival_Time_Convenient\", y=\"Travel_Distance\", data=train1)\n",
    "\n",
    "plt.show()"
   ]
  },
  {
   "cell_type": "code",
   "execution_count": 23,
   "id": "7cd5b534",
   "metadata": {},
   "outputs": [],
   "source": [
    "# Dropping rows with null values in the Arrival_Time_Convenient column.\n",
    "\n",
    "train1 = train1[train1['Arrival_Time_Convenient'].notnull()]"
   ]
  },
  {
   "cell_type": "code",
   "execution_count": 24,
   "id": "5379546d",
   "metadata": {},
   "outputs": [
    {
     "data": {
      "image/png": "[encoded data removed]",
      "text/plain": [
       "<Figure size 1296x432 with 2 Axes>"
      ]
     },
     "metadata": {
      "needs_background": "light"
     },
     "output_type": "display_data"
    }
   ],
   "source": [
    "# Plotting the distribution of Seat_Class and Travel_class where Catering missing value\n",
    "\n",
    "Catering_missing_data = train1[train1['Catering'].isnull()]\n",
    "fig, axes = plt.subplots(1, 2, figsize = (18, 6))\n",
    "  \n",
    "fig.suptitle('Bar plot for all categorical variables in the dataset where the variable Seat_Comfort is missing')\n",
    "  \n",
    "sns.countplot(ax = axes[0], x = 'Seat_Class', data = Catering_missing_data, color = 'blue', \n",
    "              order = Catering_missing_data['Seat_Class'].value_counts().index);\n",
    "\n",
    "sns.countplot(ax = axes[1], x = 'Travel_Class', data = Catering_missing_data, color = 'blue', \n",
    "              order = Catering_missing_data['Travel_Class'].value_counts().index);"
   ]
  },
  {
   "cell_type": "markdown",
   "id": "4c48e22e",
   "metadata": {},
   "source": [
    "**Observation:**\n",
    "\n",
    "- By analysing the relationship between Travel_Class and Catering column, we can deduce estimated values for missing values in the Catering column."
   ]
  },
  {
   "cell_type": "code",
   "execution_count": 25,
   "id": "984e357f",
   "metadata": {},
   "outputs": [
    {
     "data": {
      "image/png": "[encoded data removed]",
      "text/plain": [
       "<Figure size 1296x216 with 2 Axes>"
      ]
     },
     "metadata": {
      "needs_background": "light"
     },
     "output_type": "display_data"
    }
   ],
   "source": [
    "# Correlation heat map table to show relationship between 2 categorical variables.\n",
    "\n",
    "fig= plt.figure(figsize = (18, 3))\n",
    "\n",
    "sns.heatmap(pd.crosstab(index = train1['Travel_Class'], columns = train1['Catering']), annot = True, fmt = 'g')\n",
    "\n",
    "plt.xticks(rotation = 45);"
   ]
  },
  {
   "cell_type": "markdown",
   "id": "4a0ef2e4",
   "metadata": {},
   "source": [
    "**Observation:**\n",
    "\n",
    "- Correlation table shows that, for 'Eco' Travel_Class column the most common category in 'Catering' column is Good and for 'Business' Travel_Class column the most common category for the 'Catering' column is Needs Improvement.\n",
    "- We will replace missing values in 'Catering' column, with 'Good\" and 'Acceptable\" depending on the corresponding category for Travel_Class in the missing value row."
   ]
  },
  {
   "cell_type": "code",
   "execution_count": 26,
   "id": "b99cd54f",
   "metadata": {},
   "outputs": [],
   "source": [
    "# Fetching index of rows where Travel_Class is 'Eco' and 'Business' in the Seat_Comfort missing values dataframe\n",
    "\n",
    "C_missing_indices1 = train1[train1['Catering'].isnull()].query(\" Travel_Class == 'Eco' \").index\n",
    "C_missing_indices2 = train1[train1['Catering'].isnull()].query(\" Travel_Class == 'Business' \").index\n",
    "\n",
    "# Replacing the 'Catering' missing values\n",
    "\n",
    "train1.loc[C_missing_indices1, 'Catering'] = 'Good'\n",
    "train1.loc[C_missing_indices2, 'Catering'] = 'Acceptable'"
   ]
  },
  {
   "cell_type": "code",
   "execution_count": 27,
   "id": "57a92a0d",
   "metadata": {},
   "outputs": [
    {
     "data": {
      "image/png": "[encoded data removed]",
      "text/plain": [
       "<Figure size 1296x432 with 2 Axes>"
      ]
     },
     "metadata": {
      "needs_background": "light"
     },
     "output_type": "display_data"
    }
   ],
   "source": [
    "# Plotting the distribution of Seat_Class and Travel_class where 'Onboard_Service' has missing value\n",
    "\n",
    "Onboard_missing_data = train1[train1['Onboard_Service'].isnull()]\n",
    "fig, axes = plt.subplots(1, 2, figsize = (18, 6))\n",
    "  \n",
    "fig.suptitle('Bar plot for all categorical variables in the dataset where the variable Seat_Comfort is missing')\n",
    "  \n",
    "sns.countplot(ax = axes[0], x = 'Seat_Class', data = Onboard_missing_data, color = 'blue', \n",
    "              order = Onboard_missing_data['Seat_Class'].value_counts().index);\n",
    "\n",
    "sns.countplot(ax = axes[1], x = 'Travel_Class', data = Onboard_missing_data, color = 'blue', \n",
    "              order = Onboard_missing_data['Travel_Class'].value_counts().index);"
   ]
  },
  {
   "cell_type": "code",
   "execution_count": 28,
   "id": "5e0c9a80",
   "metadata": {},
   "outputs": [
    {
     "data": {
      "image/png": "[encoded data removed]",
      "text/plain": [
       "<Figure size 1296x216 with 2 Axes>"
      ]
     },
     "metadata": {
      "needs_background": "light"
     },
     "output_type": "display_data"
    }
   ],
   "source": [
    "# Correlation heat map table to show relationship between 2 categorical variables.\n",
    "\n",
    "fig= plt.figure(figsize = (18, 3))\n",
    "\n",
    "sns.heatmap(pd.crosstab(index = train1['Travel_Class'], columns = train1['Onboard_Service']), annot = True, fmt = 'g')\n",
    "\n",
    "plt.xticks(rotation = 45);"
   ]
  },
  {
   "cell_type": "markdown",
   "id": "d9de8a31",
   "metadata": {},
   "source": [
    "**Observation:**\n",
    "\n",
    "- Correlation table shows that, for 'Eco' and 'Business' Travel_Class column the most common category in 'Onboard_Service' column is 'Good' for both categories.\n",
    "- We will replace all missing values in 'Onboard_Service' column with 'Good'."
   ]
  },
  {
   "cell_type": "code",
   "execution_count": 29,
   "id": "d9f58d7f",
   "metadata": {},
   "outputs": [],
   "source": [
    "# Replacing the 'Catering' missing values\n",
    "\n",
    "train1['Onboard_Service'] = train1['Onboard_Service'].fillna('Good')"
   ]
  },
  {
   "cell_type": "code",
   "execution_count": 30,
   "id": "1f5e6671",
   "metadata": {},
   "outputs": [
    {
     "data": {
      "text/plain": [
       "Platform_Location          8\n",
       "Onboard_Wifi_Service       8\n",
       "Online_Support            57\n",
       "Ease_of_Online_Booking    57\n",
       "Legroom                   49\n",
       "Baggage_Handling          83\n",
       "CheckIn_Service           56\n",
       "Cleanliness                4\n",
       "Online_Boarding            4\n",
       "dtype: int64"
      ]
     },
     "execution_count": 30,
     "metadata": {},
     "output_type": "execute_result"
    }
   ],
   "source": [
    "# Checking the columns that have missing data and displaying only those\n",
    "\n",
    "train1.isnull().sum()[train1.isnull().sum() != 0]"
   ]
  },
  {
   "cell_type": "code",
   "execution_count": 31,
   "id": "85342b4c",
   "metadata": {},
   "outputs": [
    {
     "data": {
      "text/plain": [
       "(68977, 25)"
      ]
     },
     "execution_count": 31,
     "metadata": {},
     "output_type": "execute_result"
    }
   ],
   "source": [
    "train1.shape"
   ]
  },
  {
   "cell_type": "code",
   "execution_count": 32,
   "id": "da5e319e",
   "metadata": {},
   "outputs": [
    {
     "data": {
      "text/plain": [
       "(68862, 25)"
      ]
     },
     "execution_count": 32,
     "metadata": {},
     "output_type": "execute_result"
    }
   ],
   "source": [
    "# After treating most of the null values, we are dropping the few remaining null values from the dataset\n",
    "\n",
    "train1 = train1.dropna()\n",
    "train1.shape"
   ]
  },
  {
   "cell_type": "code",
   "execution_count": 33,
   "id": "b0008b08",
   "metadata": {},
   "outputs": [
    {
     "data": {
      "text/html": [
       "<div>\n",
       "<style scoped>\n",
       "    .dataframe tbody tr th:only-of-type {\n",
       "        vertical-align: middle;\n",
       "    }\n",
       "\n",
       "    .dataframe tbody tr th {\n",
       "        vertical-align: top;\n",
       "    }\n",
       "\n",
       "    .dataframe thead th {\n",
       "        text-align: right;\n",
       "    }\n",
       "</style>\n",
       "<table border=\"1\" class=\"dataframe\">\n",
       "  <thead>\n",
       "    <tr style=\"text-align: right;\">\n",
       "      <th></th>\n",
       "      <th>count</th>\n",
       "      <th>mean</th>\n",
       "      <th>std</th>\n",
       "      <th>min</th>\n",
       "      <th>25%</th>\n",
       "      <th>50%</th>\n",
       "      <th>75%</th>\n",
       "      <th>max</th>\n",
       "    </tr>\n",
       "  </thead>\n",
       "  <tbody>\n",
       "    <tr>\n",
       "      <th>ID</th>\n",
       "      <td>68862.0</td>\n",
       "      <td>9.884716e+07</td>\n",
       "      <td>27262.988982</td>\n",
       "      <td>98800002.0</td>\n",
       "      <td>98823567.25</td>\n",
       "      <td>98847017.5</td>\n",
       "      <td>98870854.75</td>\n",
       "      <td>98894376.0</td>\n",
       "    </tr>\n",
       "    <tr>\n",
       "      <th>Age</th>\n",
       "      <td>68862.0</td>\n",
       "      <td>3.944890e+01</td>\n",
       "      <td>15.095453</td>\n",
       "      <td>7.0</td>\n",
       "      <td>27.00</td>\n",
       "      <td>40.0</td>\n",
       "      <td>51.00</td>\n",
       "      <td>85.0</td>\n",
       "    </tr>\n",
       "    <tr>\n",
       "      <th>Travel_Distance</th>\n",
       "      <td>68862.0</td>\n",
       "      <td>1.978586e+03</td>\n",
       "      <td>1029.589195</td>\n",
       "      <td>50.0</td>\n",
       "      <td>1356.00</td>\n",
       "      <td>1920.0</td>\n",
       "      <td>2537.00</td>\n",
       "      <td>6950.0</td>\n",
       "    </tr>\n",
       "    <tr>\n",
       "      <th>Departure_Delay_in_Mins</th>\n",
       "      <td>68862.0</td>\n",
       "      <td>1.473207e+01</td>\n",
       "      <td>37.543194</td>\n",
       "      <td>0.0</td>\n",
       "      <td>0.00</td>\n",
       "      <td>0.0</td>\n",
       "      <td>12.00</td>\n",
       "      <td>1017.0</td>\n",
       "    </tr>\n",
       "    <tr>\n",
       "      <th>Arrival_Delay_in_Mins</th>\n",
       "      <td>68862.0</td>\n",
       "      <td>1.509868e+01</td>\n",
       "      <td>37.859121</td>\n",
       "      <td>0.0</td>\n",
       "      <td>0.00</td>\n",
       "      <td>0.0</td>\n",
       "      <td>13.00</td>\n",
       "      <td>1011.0</td>\n",
       "    </tr>\n",
       "    <tr>\n",
       "      <th>Overall_Experience</th>\n",
       "      <td>68862.0</td>\n",
       "      <td>5.467747e-01</td>\n",
       "      <td>0.497811</td>\n",
       "      <td>0.0</td>\n",
       "      <td>0.00</td>\n",
       "      <td>1.0</td>\n",
       "      <td>1.00</td>\n",
       "      <td>1.0</td>\n",
       "    </tr>\n",
       "  </tbody>\n",
       "</table>\n",
       "</div>"
      ],
      "text/plain": [
       "                           count          mean           std         min  \\\n",
       "ID                       68862.0  9.884716e+07  27262.988982  98800002.0   \n",
       "Age                      68862.0  3.944890e+01     15.095453         7.0   \n",
       "Travel_Distance          68862.0  1.978586e+03   1029.589195        50.0   \n",
       "Departure_Delay_in_Mins  68862.0  1.473207e+01     37.543194         0.0   \n",
       "Arrival_Delay_in_Mins    68862.0  1.509868e+01     37.859121         0.0   \n",
       "Overall_Experience       68862.0  5.467747e-01      0.497811         0.0   \n",
       "\n",
       "                                 25%         50%          75%         max  \n",
       "ID                       98823567.25  98847017.5  98870854.75  98894376.0  \n",
       "Age                            27.00        40.0        51.00        85.0  \n",
       "Travel_Distance              1356.00      1920.0      2537.00      6950.0  \n",
       "Departure_Delay_in_Mins         0.00         0.0        12.00      1017.0  \n",
       "Arrival_Delay_in_Mins           0.00         0.0        13.00      1011.0  \n",
       "Overall_Experience              0.00         1.0         1.00         1.0  "
      ]
     },
     "execution_count": 33,
     "metadata": {},
     "output_type": "execute_result"
    }
   ],
   "source": [
    "# Checking out properties of the dataset numerical columns\n",
    "\n",
    "train1.describe().T"
   ]
  },
  {
   "cell_type": "markdown",
   "id": "21a9c9f3",
   "metadata": {},
   "source": [
    "**Observation:**\n",
    "\n",
    "- The minimum age for passengers that took the survey is 7 years and maximum of 85 years and a mean age of 39.5 years.\n",
    "- The mininmum distance traveled is 50km and maximum of 6950km and a mean distance travelled of 1978.6\n",
    "- Most of the flights have no delays or very short delays as we can see the 50 percentile of 0 and a very low 75 percentile compared to the maximum delay time. "
   ]
  },
  {
   "cell_type": "code",
   "execution_count": 34,
   "id": "b17d71d9",
   "metadata": {},
   "outputs": [],
   "source": [
    "# Binning the Age column\n",
    "\n",
    "bins = [0, 13, 20, 27, 34, 41, 48, 56, 63, 73, np.inf]\n",
    "\n",
    "names = ['<13', '13-20', '20-27', '27-34','34-41','41-48','48-56','56-63','63-73', '73+']\n",
    "\n",
    "train1['Age'] = pd.cut(train1['Age'], bins, labels = names)"
   ]
  },
  {
   "cell_type": "code",
   "execution_count": 35,
   "id": "6c62f27a",
   "metadata": {},
   "outputs": [
    {
     "name": "stdout",
     "output_type": "stream",
     "text": [
      "<class 'pandas.core.frame.DataFrame'>\n",
      "Int64Index: 68862 entries, 1 to 94375\n",
      "Data columns (total 25 columns):\n",
      " #   Column                   Non-Null Count  Dtype   \n",
      "---  ------                   --------------  -----   \n",
      " 0   ID                       68862 non-null  int64   \n",
      " 1   Gender                   68862 non-null  object  \n",
      " 2   Customer_Type            68862 non-null  object  \n",
      " 3   Age                      68862 non-null  category\n",
      " 4   Type_Travel              68862 non-null  object  \n",
      " 5   Travel_Class             68862 non-null  object  \n",
      " 6   Travel_Distance          68862 non-null  int64   \n",
      " 7   Departure_Delay_in_Mins  68862 non-null  float64 \n",
      " 8   Arrival_Delay_in_Mins    68862 non-null  float64 \n",
      " 9   Overall_Experience       68862 non-null  int64   \n",
      " 10  Seat_Comfort             68862 non-null  object  \n",
      " 11  Seat_Class               68862 non-null  object  \n",
      " 12  Arrival_Time_Convenient  68862 non-null  object  \n",
      " 13  Catering                 68862 non-null  object  \n",
      " 14  Platform_Location        68862 non-null  object  \n",
      " 15  Onboard_Wifi_Service     68862 non-null  object  \n",
      " 16  Onboard_Entertainment    68862 non-null  object  \n",
      " 17  Online_Support           68862 non-null  object  \n",
      " 18  Ease_of_Online_Booking   68862 non-null  object  \n",
      " 19  Onboard_Service          68862 non-null  object  \n",
      " 20  Legroom                  68862 non-null  object  \n",
      " 21  Baggage_Handling         68862 non-null  object  \n",
      " 22  CheckIn_Service          68862 non-null  object  \n",
      " 23  Cleanliness              68862 non-null  object  \n",
      " 24  Online_Boarding          68862 non-null  object  \n",
      "dtypes: category(1), float64(2), int64(3), object(19)\n",
      "memory usage: 13.2+ MB\n"
     ]
    }
   ],
   "source": [
    "train1.info()"
   ]
  },
  {
   "cell_type": "code",
   "execution_count": 36,
   "id": "ca95a648",
   "metadata": {},
   "outputs": [],
   "source": [
    "#Creating a list of columns for which we will create dummy variables\n",
    "to_get_dummies_for = ['Gender', 'Customer_Type', 'Type_Travel', 'Travel_Class', 'Seat_Class','Age']\n",
    "\n",
    "# Creating dummy variables\n",
    "train1 = pd.get_dummies(data = train1, columns = to_get_dummies_for, drop_first = True) "
   ]
  },
  {
   "cell_type": "code",
   "execution_count": 37,
   "id": "dcf3def1",
   "metadata": {},
   "outputs": [],
   "source": [
    "# Mapping ordinal features\n",
    "dict_Platform = {'Very Inconvenient': 0, 'Inconvenient': 1, 'Needs Improvement': 2, 'Manageable': 3, 'Convenient': 4, 'Very Convenient': 5}\n",
    "dict_others = {'Extremely Poor': 0, 'Poor': 1, 'Needs Improvement': 2, 'Acceptable': 3, 'Good': 4, 'Excellent': 5}\n",
    "\n",
    "\n",
    "train1['Platform_Location'] = train1.Platform_Location.map(dict_Platform)\n",
    "train1['Seat_Comfort'] = train1.Seat_Comfort.map(dict_others)\n",
    "train1['Arrival_Time_Convenient'] = train1.Arrival_Time_Convenient.map(dict_others)\n",
    "train1['Catering'] = train1.Catering.map(dict_others)\n",
    "train1['Onboard_Wifi_Service'] = train1.Onboard_Wifi_Service.map(dict_others)\n",
    "train1['Onboard_Entertainment'] = train1.Onboard_Entertainment.map(dict_others)\n",
    "train1['Online_Support'] = train1.Online_Support.map(dict_others)\n",
    "train1['Ease_of_Online_Booking'] = train1.Ease_of_Online_Booking.map(dict_others)\n",
    "train1['Onboard_Service'] = train1.Onboard_Service.map(dict_others)\n",
    "train1['Legroom'] = train1.Legroom.map(dict_others)\n",
    "train1['Baggage_Handling'] = train1.Baggage_Handling.map(dict_others)\n",
    "train1['CheckIn_Service'] = train1.CheckIn_Service.map(dict_others)\n",
    "train1['Cleanliness'] = train1.Cleanliness.map(dict_others)\n",
    "train1['Online_Boarding'] = train1.Online_Boarding.map(dict_others)\n"
   ]
  },
  {
   "cell_type": "code",
   "execution_count": 38,
   "id": "8ef99a2d",
   "metadata": {},
   "outputs": [],
   "source": [
    "# Separating the target variable and other variables\n",
    "\n",
    "X = train1.drop('Overall_Experience', axis = 1)\n",
    "Y = train1['Overall_Experience']"
   ]
  },
  {
   "cell_type": "code",
   "execution_count": 39,
   "id": "b8ce1cd3",
   "metadata": {},
   "outputs": [],
   "source": [
    "# Splitting the data\n",
    "x_train, x_test, y_train, y_test = train_test_split(X, Y, test_size = 0.3, random_state = 1, stratify = Y)"
   ]
  },
  {
   "cell_type": "code",
   "execution_count": 40,
   "id": "a6b8f897",
   "metadata": {},
   "outputs": [],
   "source": [
    "x_test0 = x_test.copy()"
   ]
  },
  {
   "cell_type": "code",
   "execution_count": 42,
   "id": "f9fde227",
   "metadata": {},
   "outputs": [
    {
     "data": {
      "text/html": [
       "<div>\n",
       "<style scoped>\n",
       "    .dataframe tbody tr th:only-of-type {\n",
       "        vertical-align: middle;\n",
       "    }\n",
       "\n",
       "    .dataframe tbody tr th {\n",
       "        vertical-align: top;\n",
       "    }\n",
       "\n",
       "    .dataframe thead th {\n",
       "        text-align: right;\n",
       "    }\n",
       "</style>\n",
       "<table border=\"1\" class=\"dataframe\">\n",
       "  <thead>\n",
       "    <tr style=\"text-align: right;\">\n",
       "      <th></th>\n",
       "      <th>Travel_Distance</th>\n",
       "      <th>Departure_Delay_in_Mins</th>\n",
       "      <th>Arrival_Delay_in_Mins</th>\n",
       "      <th>Seat_Comfort</th>\n",
       "      <th>Arrival_Time_Convenient</th>\n",
       "      <th>Catering</th>\n",
       "      <th>Platform_Location</th>\n",
       "      <th>Onboard_Wifi_Service</th>\n",
       "      <th>Onboard_Entertainment</th>\n",
       "      <th>Online_Support</th>\n",
       "      <th>...</th>\n",
       "      <th>Seat_Class_Ordinary</th>\n",
       "      <th>Age_13-20</th>\n",
       "      <th>Age_20-27</th>\n",
       "      <th>Age_27-34</th>\n",
       "      <th>Age_34-41</th>\n",
       "      <th>Age_41-48</th>\n",
       "      <th>Age_48-56</th>\n",
       "      <th>Age_56-63</th>\n",
       "      <th>Age_63-73</th>\n",
       "      <th>Age_73+</th>\n",
       "    </tr>\n",
       "  </thead>\n",
       "  <tbody>\n",
       "    <tr>\n",
       "      <th>39037</th>\n",
       "      <td>0.129855</td>\n",
       "      <td>0.033432</td>\n",
       "      <td>0.024728</td>\n",
       "      <td>1.0</td>\n",
       "      <td>1.0</td>\n",
       "      <td>1.0</td>\n",
       "      <td>1.0</td>\n",
       "      <td>1.0</td>\n",
       "      <td>0.8</td>\n",
       "      <td>0.75</td>\n",
       "      <td>...</td>\n",
       "      <td>0.0</td>\n",
       "      <td>0.0</td>\n",
       "      <td>0.0</td>\n",
       "      <td>0.0</td>\n",
       "      <td>0.0</td>\n",
       "      <td>0.0</td>\n",
       "      <td>0.0</td>\n",
       "      <td>1.0</td>\n",
       "      <td>0.0</td>\n",
       "      <td>0.0</td>\n",
       "    </tr>\n",
       "    <tr>\n",
       "      <th>25037</th>\n",
       "      <td>0.046087</td>\n",
       "      <td>0.000000</td>\n",
       "      <td>0.000000</td>\n",
       "      <td>1.0</td>\n",
       "      <td>1.0</td>\n",
       "      <td>1.0</td>\n",
       "      <td>0.6</td>\n",
       "      <td>1.0</td>\n",
       "      <td>0.8</td>\n",
       "      <td>1.00</td>\n",
       "      <td>...</td>\n",
       "      <td>0.0</td>\n",
       "      <td>0.0</td>\n",
       "      <td>0.0</td>\n",
       "      <td>0.0</td>\n",
       "      <td>0.0</td>\n",
       "      <td>0.0</td>\n",
       "      <td>1.0</td>\n",
       "      <td>0.0</td>\n",
       "      <td>0.0</td>\n",
       "      <td>0.0</td>\n",
       "    </tr>\n",
       "    <tr>\n",
       "      <th>5995</th>\n",
       "      <td>0.224928</td>\n",
       "      <td>0.000000</td>\n",
       "      <td>0.000000</td>\n",
       "      <td>0.6</td>\n",
       "      <td>1.0</td>\n",
       "      <td>0.6</td>\n",
       "      <td>0.8</td>\n",
       "      <td>1.0</td>\n",
       "      <td>0.6</td>\n",
       "      <td>1.00</td>\n",
       "      <td>...</td>\n",
       "      <td>1.0</td>\n",
       "      <td>0.0</td>\n",
       "      <td>0.0</td>\n",
       "      <td>1.0</td>\n",
       "      <td>0.0</td>\n",
       "      <td>0.0</td>\n",
       "      <td>0.0</td>\n",
       "      <td>0.0</td>\n",
       "      <td>0.0</td>\n",
       "      <td>0.0</td>\n",
       "    </tr>\n",
       "    <tr>\n",
       "      <th>33085</th>\n",
       "      <td>0.227971</td>\n",
       "      <td>0.000000</td>\n",
       "      <td>0.000000</td>\n",
       "      <td>0.4</td>\n",
       "      <td>0.8</td>\n",
       "      <td>0.4</td>\n",
       "      <td>0.4</td>\n",
       "      <td>0.6</td>\n",
       "      <td>0.4</td>\n",
       "      <td>0.50</td>\n",
       "      <td>...</td>\n",
       "      <td>1.0</td>\n",
       "      <td>0.0</td>\n",
       "      <td>0.0</td>\n",
       "      <td>1.0</td>\n",
       "      <td>0.0</td>\n",
       "      <td>0.0</td>\n",
       "      <td>0.0</td>\n",
       "      <td>0.0</td>\n",
       "      <td>0.0</td>\n",
       "      <td>0.0</td>\n",
       "    </tr>\n",
       "    <tr>\n",
       "      <th>42084</th>\n",
       "      <td>0.308116</td>\n",
       "      <td>0.000000</td>\n",
       "      <td>0.000000</td>\n",
       "      <td>1.0</td>\n",
       "      <td>0.8</td>\n",
       "      <td>0.8</td>\n",
       "      <td>0.8</td>\n",
       "      <td>1.0</td>\n",
       "      <td>1.0</td>\n",
       "      <td>1.00</td>\n",
       "      <td>...</td>\n",
       "      <td>0.0</td>\n",
       "      <td>0.0</td>\n",
       "      <td>0.0</td>\n",
       "      <td>0.0</td>\n",
       "      <td>1.0</td>\n",
       "      <td>0.0</td>\n",
       "      <td>0.0</td>\n",
       "      <td>0.0</td>\n",
       "      <td>0.0</td>\n",
       "      <td>0.0</td>\n",
       "    </tr>\n",
       "  </tbody>\n",
       "</table>\n",
       "<p>5 rows × 31 columns</p>\n",
       "</div>"
      ],
      "text/plain": [
       "       Travel_Distance  Departure_Delay_in_Mins  Arrival_Delay_in_Mins  \\\n",
       "39037         0.129855                 0.033432               0.024728   \n",
       "25037         0.046087                 0.000000               0.000000   \n",
       "5995          0.224928                 0.000000               0.000000   \n",
       "33085         0.227971                 0.000000               0.000000   \n",
       "42084         0.308116                 0.000000               0.000000   \n",
       "\n",
       "       Seat_Comfort  Arrival_Time_Convenient  Catering  Platform_Location  \\\n",
       "39037           1.0                      1.0       1.0                1.0   \n",
       "25037           1.0                      1.0       1.0                0.6   \n",
       "5995            0.6                      1.0       0.6                0.8   \n",
       "33085           0.4                      0.8       0.4                0.4   \n",
       "42084           1.0                      0.8       0.8                0.8   \n",
       "\n",
       "       Onboard_Wifi_Service  Onboard_Entertainment  Online_Support  ...  \\\n",
       "39037                   1.0                    0.8            0.75  ...   \n",
       "25037                   1.0                    0.8            1.00  ...   \n",
       "5995                    1.0                    0.6            1.00  ...   \n",
       "33085                   0.6                    0.4            0.50  ...   \n",
       "42084                   1.0                    1.0            1.00  ...   \n",
       "\n",
       "       Seat_Class_Ordinary  Age_13-20  Age_20-27  Age_27-34  Age_34-41  \\\n",
       "39037                  0.0        0.0        0.0        0.0        0.0   \n",
       "25037                  0.0        0.0        0.0        0.0        0.0   \n",
       "5995                   1.0        0.0        0.0        1.0        0.0   \n",
       "33085                  1.0        0.0        0.0        1.0        0.0   \n",
       "42084                  0.0        0.0        0.0        0.0        1.0   \n",
       "\n",
       "       Age_41-48  Age_48-56  Age_56-63  Age_63-73  Age_73+  \n",
       "39037        0.0        0.0        1.0        0.0      0.0  \n",
       "25037        0.0        1.0        0.0        0.0      0.0  \n",
       "5995         0.0        0.0        0.0        0.0      0.0  \n",
       "33085        0.0        0.0        0.0        0.0      0.0  \n",
       "42084        0.0        0.0        0.0        0.0      0.0  \n",
       "\n",
       "[5 rows x 31 columns]"
      ]
     },
     "execution_count": 42,
     "metadata": {},
     "output_type": "execute_result"
    }
   ],
   "source": [
    "# Creating an instance of the MinMaxScaler\n",
    "\n",
    "scaler = MinMaxScaler()\n",
    "\n",
    "# Applying fit_transform on the training features data\n",
    "x_train_scaled = scaler.fit_transform(x_train)\n",
    "\n",
    "# The above scaler returns the data in array format, below we are converting it back to pandas DataFrame\n",
    "x_train_scaled = pd.DataFrame(x_train_scaled, index = x_train.index, columns = x_train.columns)\n",
    "\n",
    "x_train_scaled.head()"
   ]
  },
  {
   "cell_type": "code",
   "execution_count": 43,
   "id": "603a8161",
   "metadata": {},
   "outputs": [
    {
     "data": {
      "text/html": [
       "<div>\n",
       "<style scoped>\n",
       "    .dataframe tbody tr th:only-of-type {\n",
       "        vertical-align: middle;\n",
       "    }\n",
       "\n",
       "    .dataframe tbody tr th {\n",
       "        vertical-align: top;\n",
       "    }\n",
       "\n",
       "    .dataframe thead th {\n",
       "        text-align: right;\n",
       "    }\n",
       "</style>\n",
       "<table border=\"1\" class=\"dataframe\">\n",
       "  <thead>\n",
       "    <tr style=\"text-align: right;\">\n",
       "      <th></th>\n",
       "      <th>Travel_Distance</th>\n",
       "      <th>Departure_Delay_in_Mins</th>\n",
       "      <th>Arrival_Delay_in_Mins</th>\n",
       "      <th>Seat_Comfort</th>\n",
       "      <th>Arrival_Time_Convenient</th>\n",
       "      <th>Catering</th>\n",
       "      <th>Platform_Location</th>\n",
       "      <th>Onboard_Wifi_Service</th>\n",
       "      <th>Onboard_Entertainment</th>\n",
       "      <th>Online_Support</th>\n",
       "      <th>...</th>\n",
       "      <th>Seat_Class_Ordinary</th>\n",
       "      <th>Age_13-20</th>\n",
       "      <th>Age_20-27</th>\n",
       "      <th>Age_27-34</th>\n",
       "      <th>Age_34-41</th>\n",
       "      <th>Age_41-48</th>\n",
       "      <th>Age_48-56</th>\n",
       "      <th>Age_56-63</th>\n",
       "      <th>Age_63-73</th>\n",
       "      <th>Age_73+</th>\n",
       "    </tr>\n",
       "  </thead>\n",
       "  <tbody>\n",
       "    <tr>\n",
       "      <th>51437</th>\n",
       "      <td>0.414758</td>\n",
       "      <td>0.023656</td>\n",
       "      <td>0.008403</td>\n",
       "      <td>0.2</td>\n",
       "      <td>0.8</td>\n",
       "      <td>0.8</td>\n",
       "      <td>0.6</td>\n",
       "      <td>0.2</td>\n",
       "      <td>0.2</td>\n",
       "      <td>0.00</td>\n",
       "      <td>...</td>\n",
       "      <td>1.0</td>\n",
       "      <td>1.0</td>\n",
       "      <td>0.0</td>\n",
       "      <td>0.0</td>\n",
       "      <td>0.0</td>\n",
       "      <td>0.0</td>\n",
       "      <td>0.0</td>\n",
       "      <td>0.0</td>\n",
       "      <td>0.0</td>\n",
       "      <td>0.0</td>\n",
       "    </tr>\n",
       "    <tr>\n",
       "      <th>69621</th>\n",
       "      <td>0.238330</td>\n",
       "      <td>0.000000</td>\n",
       "      <td>0.000000</td>\n",
       "      <td>0.6</td>\n",
       "      <td>0.2</td>\n",
       "      <td>0.6</td>\n",
       "      <td>0.4</td>\n",
       "      <td>1.0</td>\n",
       "      <td>0.6</td>\n",
       "      <td>0.00</td>\n",
       "      <td>...</td>\n",
       "      <td>0.0</td>\n",
       "      <td>0.0</td>\n",
       "      <td>1.0</td>\n",
       "      <td>0.0</td>\n",
       "      <td>0.0</td>\n",
       "      <td>0.0</td>\n",
       "      <td>0.0</td>\n",
       "      <td>0.0</td>\n",
       "      <td>0.0</td>\n",
       "      <td>0.0</td>\n",
       "    </tr>\n",
       "    <tr>\n",
       "      <th>47565</th>\n",
       "      <td>0.306756</td>\n",
       "      <td>0.089247</td>\n",
       "      <td>0.081933</td>\n",
       "      <td>0.4</td>\n",
       "      <td>0.4</td>\n",
       "      <td>0.4</td>\n",
       "      <td>0.4</td>\n",
       "      <td>1.0</td>\n",
       "      <td>1.0</td>\n",
       "      <td>0.75</td>\n",
       "      <td>...</td>\n",
       "      <td>0.0</td>\n",
       "      <td>0.0</td>\n",
       "      <td>0.0</td>\n",
       "      <td>0.0</td>\n",
       "      <td>1.0</td>\n",
       "      <td>0.0</td>\n",
       "      <td>0.0</td>\n",
       "      <td>0.0</td>\n",
       "      <td>0.0</td>\n",
       "      <td>0.0</td>\n",
       "    </tr>\n",
       "    <tr>\n",
       "      <th>39390</th>\n",
       "      <td>0.277617</td>\n",
       "      <td>0.009677</td>\n",
       "      <td>0.000000</td>\n",
       "      <td>0.8</td>\n",
       "      <td>0.2</td>\n",
       "      <td>0.2</td>\n",
       "      <td>0.2</td>\n",
       "      <td>0.8</td>\n",
       "      <td>0.8</td>\n",
       "      <td>0.75</td>\n",
       "      <td>...</td>\n",
       "      <td>1.0</td>\n",
       "      <td>1.0</td>\n",
       "      <td>0.0</td>\n",
       "      <td>0.0</td>\n",
       "      <td>0.0</td>\n",
       "      <td>0.0</td>\n",
       "      <td>0.0</td>\n",
       "      <td>0.0</td>\n",
       "      <td>0.0</td>\n",
       "      <td>0.0</td>\n",
       "    </tr>\n",
       "    <tr>\n",
       "      <th>24002</th>\n",
       "      <td>0.286315</td>\n",
       "      <td>0.021505</td>\n",
       "      <td>0.016807</td>\n",
       "      <td>0.4</td>\n",
       "      <td>1.0</td>\n",
       "      <td>0.4</td>\n",
       "      <td>0.2</td>\n",
       "      <td>1.0</td>\n",
       "      <td>0.4</td>\n",
       "      <td>1.00</td>\n",
       "      <td>...</td>\n",
       "      <td>0.0</td>\n",
       "      <td>1.0</td>\n",
       "      <td>0.0</td>\n",
       "      <td>0.0</td>\n",
       "      <td>0.0</td>\n",
       "      <td>0.0</td>\n",
       "      <td>0.0</td>\n",
       "      <td>0.0</td>\n",
       "      <td>0.0</td>\n",
       "      <td>0.0</td>\n",
       "    </tr>\n",
       "  </tbody>\n",
       "</table>\n",
       "<p>5 rows × 31 columns</p>\n",
       "</div>"
      ],
      "text/plain": [
       "       Travel_Distance  Departure_Delay_in_Mins  Arrival_Delay_in_Mins  \\\n",
       "51437         0.414758                 0.023656               0.008403   \n",
       "69621         0.238330                 0.000000               0.000000   \n",
       "47565         0.306756                 0.089247               0.081933   \n",
       "39390         0.277617                 0.009677               0.000000   \n",
       "24002         0.286315                 0.021505               0.016807   \n",
       "\n",
       "       Seat_Comfort  Arrival_Time_Convenient  Catering  Platform_Location  \\\n",
       "51437           0.2                      0.8       0.8                0.6   \n",
       "69621           0.6                      0.2       0.6                0.4   \n",
       "47565           0.4                      0.4       0.4                0.4   \n",
       "39390           0.8                      0.2       0.2                0.2   \n",
       "24002           0.4                      1.0       0.4                0.2   \n",
       "\n",
       "       Onboard_Wifi_Service  Onboard_Entertainment  Online_Support  ...  \\\n",
       "51437                   0.2                    0.2            0.00  ...   \n",
       "69621                   1.0                    0.6            0.00  ...   \n",
       "47565                   1.0                    1.0            0.75  ...   \n",
       "39390                   0.8                    0.8            0.75  ...   \n",
       "24002                   1.0                    0.4            1.00  ...   \n",
       "\n",
       "       Seat_Class_Ordinary  Age_13-20  Age_20-27  Age_27-34  Age_34-41  \\\n",
       "51437                  1.0        1.0        0.0        0.0        0.0   \n",
       "69621                  0.0        0.0        1.0        0.0        0.0   \n",
       "47565                  0.0        0.0        0.0        0.0        1.0   \n",
       "39390                  1.0        1.0        0.0        0.0        0.0   \n",
       "24002                  0.0        1.0        0.0        0.0        0.0   \n",
       "\n",
       "       Age_41-48  Age_48-56  Age_56-63  Age_63-73  Age_73+  \n",
       "51437        0.0        0.0        0.0        0.0      0.0  \n",
       "69621        0.0        0.0        0.0        0.0      0.0  \n",
       "47565        0.0        0.0        0.0        0.0      0.0  \n",
       "39390        0.0        0.0        0.0        0.0      0.0  \n",
       "24002        0.0        0.0        0.0        0.0      0.0  \n",
       "\n",
       "[5 rows x 31 columns]"
      ]
     },
     "execution_count": 43,
     "metadata": {},
     "output_type": "execute_result"
    }
   ],
   "source": [
    "# Applying fit_transform on the testing features data\n",
    "x_test_scaled = scaler.fit_transform(x_test)\n",
    "\n",
    "# The above scaler returns the data in array format, below we are converting it back to pandas DataFrame\n",
    "x_test_scaled = pd.DataFrame(x_test_scaled, index = x_test.index, columns = x_test.columns)\n",
    "\n",
    "x_test_scaled.head()"
   ]
  },
  {
   "cell_type": "code",
   "execution_count": 44,
   "id": "627d424f",
   "metadata": {},
   "outputs": [
    {
     "data": {
      "text/plain": [
       "1    0.546771\n",
       "0    0.453229\n",
       "Name: Overall_Experience, dtype: float64"
      ]
     },
     "execution_count": 44,
     "metadata": {},
     "output_type": "execute_result"
    }
   ],
   "source": [
    "#Checking for categories in target variable\n",
    "\n",
    "y_train.value_counts(normalize = 1)"
   ]
  },
  {
   "cell_type": "code",
   "execution_count": 45,
   "id": "11ec7949",
   "metadata": {},
   "outputs": [],
   "source": [
    "# Function to print model metrics \n",
    "\n",
    "def metrics_score(actual, predicted):\n",
    "  print(classification_report(actual, predicted));\n",
    "  cm = confusion_matrix(actual, predicted);\n",
    "  plt.figure(figsize = (8,5));\n",
    "  sns.heatmap(cm, annot = True, fmt = '.2f', xticklabels = ['Not Satisfied', 'Satisfied'], yticklabels = ['Not Satisfied', 'Satisfied'])\n",
    "  plt.ylabel('Actual'); plt.xlabel('Predicted');\n",
    "  plt.show()"
   ]
  },
  {
   "cell_type": "code",
   "execution_count": 46,
   "id": "aa437b8e",
   "metadata": {},
   "outputs": [],
   "source": [
    "# Function to compute different metrics to check classification model performance\n",
    "\n",
    "def model_performance_classification(model, predictors, target):\n",
    "    \"\"\"\n",
    "    Function to compute different metrics to check classification model performance\n",
    "\n",
    "    model: classifier\n",
    "    \n",
    "    predictors: independent variables\n",
    "    \n",
    "    target: dependent variable\n",
    "    \"\"\"\n",
    "\n",
    "    # Predicting using the independent variables\n",
    "    pred = model.predict(predictors)\n",
    "\n",
    "    recall = recall_score(target, pred,average = 'macro')                 # To compute recall\n",
    "    \n",
    "    precision = precision_score(target, pred, average = 'macro')              # To compute precision\n",
    "               \n",
    "    acc = accuracy_score(target, pred)                                 # To compute accuracy score\n",
    "    \n",
    "\n",
    "    # Creating a dataframe of metrics\n",
    "    \n",
    "    df_perf = pd.DataFrame(\n",
    "        {\n",
    "            \"Precision\":  precision,\n",
    "            \"Recall\":  recall,\n",
    "            \"Accuracy\": acc,\n",
    "        },\n",
    "        \n",
    "        index = [0],\n",
    "    )\n",
    "\n",
    "    return df_perf"
   ]
  },
  {
   "cell_type": "markdown",
   "id": "703d58b1",
   "metadata": {},
   "source": [
    "### Modelling"
   ]
  },
  {
   "cell_type": "markdown",
   "id": "725110bf",
   "metadata": {},
   "source": [
    "**Decision Tree Classifier**"
   ]
  },
  {
   "cell_type": "code",
   "execution_count": 47,
   "id": "7825f3c0",
   "metadata": {},
   "outputs": [
    {
     "name": "stdout",
     "output_type": "stream",
     "text": [
      "              precision    recall  f1-score   support\n",
      "\n",
      "           0       1.00      1.00      1.00     21847\n",
      "           1       1.00      1.00      1.00     26356\n",
      "\n",
      "    accuracy                           1.00     48203\n",
      "   macro avg       1.00      1.00      1.00     48203\n",
      "weighted avg       1.00      1.00      1.00     48203\n",
      "\n"
     ]
    },
    {
     "data": {
      "image/png": "[encoded data removed]",
      "text/plain": [
       "<Figure size 576x360 with 2 Axes>"
      ]
     },
     "metadata": {
      "needs_background": "light"
     },
     "output_type": "display_data"
    }
   ],
   "source": [
    "#Decision Tree Classifier after Scaling\n",
    "\n",
    "dt = DecisionTreeClassifier(random_state=1);\n",
    "dt.fit(x_train_scaled, y_train)\n",
    "y_train_scaled_pred_dt = dt.predict(x_train_scaled)\n",
    "metrics_score(y_train, y_train_scaled_pred_dt)"
   ]
  },
  {
   "cell_type": "code",
   "execution_count": 48,
   "id": "990f2272",
   "metadata": {},
   "outputs": [
    {
     "name": "stdout",
     "output_type": "stream",
     "text": [
      "              precision    recall  f1-score   support\n",
      "\n",
      "           0       0.93      0.93      0.93      9363\n",
      "           1       0.94      0.94      0.94     11296\n",
      "\n",
      "    accuracy                           0.93     20659\n",
      "   macro avg       0.93      0.93      0.93     20659\n",
      "weighted avg       0.93      0.93      0.93     20659\n",
      "\n"
     ]
    },
    {
     "data": {
      "image/png": "[encoded data removed]",
      "text/plain": [
       "<Figure size 576x360 with 2 Axes>"
      ]
     },
     "metadata": {
      "needs_background": "light"
     },
     "output_type": "display_data"
    }
   ],
   "source": [
    "y_test_scaled_pred_dt = dt.predict(x_test_scaled)\n",
    "metrics_score(y_test, y_test_scaled_pred_dt)"
   ]
  },
  {
   "cell_type": "markdown",
   "id": "193d27b0",
   "metadata": {},
   "source": [
    "**Observation:**\n",
    "\n",
    "- Decicsion Tree classifier is giving a very good performance with a perfect score on the training data and for test data we get an **accuracy** of 0.93, **recall** of 0.94 and **f1-score** of 0.94.\n",
    "- Slightly better model score on training data over test data show model is overfitting \n",
    "- A recall of ~0.94 on the test data suggests that there is a small 6% chance that the model will predict that a passenger is satisfied when this is not true.\n"
   ]
  },
  {
   "cell_type": "code",
   "execution_count": 49,
   "id": "1b4e85f3",
   "metadata": {},
   "outputs": [
    {
     "name": "stdout",
     "output_type": "stream",
     "text": [
      "The average score of the model with K-5 Cross validation is 0.9158720818649069 \n"
     ]
    }
   ],
   "source": [
    "# K-fold cross-validation\n",
    "\n",
    "from sklearn.model_selection import cross_val_score\n",
    "scores = cross_val_score(dt, x_test_scaled, y_test, cv=5)\n",
    "print(f\"The average score of the model with K-5 Cross validation is {np.average(scores)} \")"
   ]
  },
  {
   "cell_type": "code",
   "execution_count": 50,
   "id": "3fd61878",
   "metadata": {},
   "outputs": [
    {
     "data": {
      "image/png": "[encoded data removed]",
      "text/plain": [
       "<Figure size 2160x1440 with 1 Axes>"
      ]
     },
     "metadata": {
      "needs_background": "light"
     },
     "output_type": "display_data"
    }
   ],
   "source": [
    "# Tree Plot Visualization of the Decision Tree\n",
    "\n",
    "features = list(X.columns);\n",
    "plt.figure(figsize=(30,20))\n",
    "tree.plot_tree(dt, max_depth=3, feature_names=features, filled=True, fontsize=12, node_ids=True, class_names=True);\n",
    "plt.show()"
   ]
  },
  {
   "cell_type": "markdown",
   "id": "5ed5495b",
   "metadata": {},
   "source": [
    "**Observations:**\n",
    "\n",
    "- We can see that the first split is based on the 'Onboard_Entertainment'. It is one of the most important factors while predicting who will be satisfied or not. The better the Onboard_Entertainment the more likely the passenger is satisfied\n",
    "- From the leafs in the second level, we can deduce that after the Onboard_Entertainment, the next most important features are Seat_Confort and Ease_of_Online_Booking. "
   ]
  },
  {
   "cell_type": "code",
   "execution_count": 53,
   "id": "0cd63d7d",
   "metadata": {},
   "outputs": [
    {
     "data": {
      "image/png": "[encoded data removed]",
      "text/plain": [
       "<Figure size 936x936 with 1 Axes>"
      ]
     },
     "metadata": {
      "needs_background": "light"
     },
     "output_type": "display_data"
    },
    {
     "name": "stdout",
     "output_type": "stream",
     "text": [
      "                              Importance\n",
      "Onboard_Entertainment           0.394096\n",
      "Seat_Comfort                    0.175954\n",
      "Ease_of_Online_Booking          0.067882\n",
      "Customer_Type_Loyal Customer    0.042325\n",
      "Type_Travel_Personal Travel     0.036452\n",
      "Travel_Distance                 0.029629\n",
      "Platform_Location               0.025387\n",
      "Arrival_Time_Convenient         0.022779\n",
      "Online_Support                  0.020774\n",
      "CheckIn_Service                 0.020379\n",
      "Travel_Class_Eco                0.019001\n",
      "Legroom                         0.018127\n",
      "Gender_Male                     0.018093\n",
      "Cleanliness                     0.017526\n",
      "Baggage_Handling                0.016956\n",
      "Arrival_Delay_in_Mins           0.013549\n",
      "Departure_Delay_in_Mins         0.010172\n",
      "Online_Boarding                 0.009614\n",
      "Onboard_Service                 0.009427\n",
      "Catering                        0.007904\n",
      "Onboard_Wifi_Service            0.005623\n",
      "Age_34-41                       0.002626\n",
      "Seat_Class_Ordinary             0.002269\n",
      "Age_41-48                       0.002227\n",
      "Age_27-34                       0.002195\n",
      "Age_48-56                       0.002054\n",
      "Age_20-27                       0.001967\n",
      "Age_56-63                       0.001780\n",
      "Age_13-20                       0.001596\n",
      "Age_63-73                       0.001494\n",
      "Age_73+                         0.000143\n"
     ]
    }
   ],
   "source": [
    "# Plotting the feature importance\n",
    "importances = dt.feature_importances_\n",
    "columns = x_train.columns;\n",
    "importance_train = pd.DataFrame(importances, index=columns, columns=['Importance']).sort_values(by='Importance', ascending=False);\n",
    "plt.figure(figsize=(13,13));\n",
    "sns.barplot(importance_train.Importance, importance_train.index)\n",
    "plt.show()\n",
    "\n",
    "print(importance_train)"
   ]
  },
  {
   "cell_type": "markdown",
   "id": "b65d547c",
   "metadata": {},
   "source": [
    "**Observation:**\n",
    "\n",
    "- Similar to the Tree plot, our feature Importance diagram shows 'Onboard_Entertainment' is the most important feature followed by Seat_Confort and Ease_of_Online_Booking. "
   ]
  },
  {
   "cell_type": "markdown",
   "id": "f3aa38e8",
   "metadata": {},
   "source": [
    "**Decision Tree - Hyperparameter Tuning**"
   ]
  },
  {
   "cell_type": "code",
   "execution_count": 54,
   "id": "85415065",
   "metadata": {},
   "outputs": [
    {
     "data": {
      "text/plain": [
       "DecisionTreeClassifier(criterion='entropy', max_depth=6, min_samples_leaf=5,\n",
       "                       random_state=1)"
      ]
     },
     "execution_count": 54,
     "metadata": {},
     "output_type": "execute_result"
    }
   ],
   "source": [
    "# Using GridSearch for Hyperparameter Tuning\n",
    "# Choose the type of classifier\n",
    "dtree_estimator = DecisionTreeClassifier(random_state = 1)\n",
    "\n",
    "# Grid of parameters to choose from\n",
    "parameters = {'max_depth': np.arange(2, 7), \n",
    "              'criterion': ['gini', 'entropy'],\n",
    "              'min_samples_leaf': [5, 10, 20, 25]\n",
    "             }\n",
    "\n",
    "# Type of scoring used to compare parameter combinations\n",
    "scorer = metrics.make_scorer(recall_score, pos_label = 1)\n",
    "\n",
    "# Run the grid search\n",
    "gridCV = GridSearchCV(dtree_estimator, parameters, scoring = scorer, cv = 10)\n",
    "\n",
    "# Fitting the grid search on the train data\n",
    "gridCV = gridCV.fit(x_train_scaled, y_train)\n",
    "\n",
    "# Set the classifier to the best combination of parameters\n",
    "dtree_estimator = gridCV.best_estimator_\n",
    "\n",
    "# Fit the best estimator to the data\n",
    "dtree_estimator.fit(x_train_scaled, y_train)"
   ]
  },
  {
   "cell_type": "code",
   "execution_count": 55,
   "id": "47516c2e",
   "metadata": {},
   "outputs": [
    {
     "name": "stdout",
     "output_type": "stream",
     "text": [
      "              precision    recall  f1-score   support\n",
      "\n",
      "           0       0.90      0.88      0.89     21847\n",
      "           1       0.90      0.92      0.91     26356\n",
      "\n",
      "    accuracy                           0.90     48203\n",
      "   macro avg       0.90      0.90      0.90     48203\n",
      "weighted avg       0.90      0.90      0.90     48203\n",
      "\n"
     ]
    },
    {
     "data": {
      "image/png": "[encoded data removed]",
      "text/plain": [
       "<Figure size 576x360 with 2 Axes>"
      ]
     },
     "metadata": {
      "needs_background": "light"
     },
     "output_type": "display_data"
    }
   ],
   "source": [
    "# Checking performance on the training dataset\n",
    "y_train_scaled_pred_dt = dtree_estimator.predict(x_train_scaled)\n",
    "\n",
    "metrics_score(y_train, y_train_scaled_pred_dt)"
   ]
  },
  {
   "cell_type": "code",
   "execution_count": 56,
   "id": "657926c5",
   "metadata": {},
   "outputs": [
    {
     "name": "stdout",
     "output_type": "stream",
     "text": [
      "              precision    recall  f1-score   support\n",
      "\n",
      "           0       0.90      0.88      0.89      9363\n",
      "           1       0.90      0.92      0.91     11296\n",
      "\n",
      "    accuracy                           0.90     20659\n",
      "   macro avg       0.90      0.90      0.90     20659\n",
      "weighted avg       0.90      0.90      0.90     20659\n",
      "\n"
     ]
    },
    {
     "data": {
      "image/png": "[encoded data removed]",
      "text/plain": [
       "<Figure size 576x360 with 2 Axes>"
      ]
     },
     "metadata": {
      "needs_background": "light"
     },
     "output_type": "display_data"
    }
   ],
   "source": [
    "# Checking performance on the test dataset\n",
    "y_test_scaled_pred_dt = dtree_estimator.predict(x_test_scaled)\n",
    "\n",
    "metrics_score(y_test, y_test_scaled_pred_dt)"
   ]
  },
  {
   "cell_type": "code",
   "execution_count": 57,
   "id": "61ebef87",
   "metadata": {
    "scrolled": true
   },
   "outputs": [
    {
     "data": {
      "text/html": [
       "<div>\n",
       "<style scoped>\n",
       "    .dataframe tbody tr th:only-of-type {\n",
       "        vertical-align: middle;\n",
       "    }\n",
       "\n",
       "    .dataframe tbody tr th {\n",
       "        vertical-align: top;\n",
       "    }\n",
       "\n",
       "    .dataframe thead th {\n",
       "        text-align: right;\n",
       "    }\n",
       "</style>\n",
       "<table border=\"1\" class=\"dataframe\">\n",
       "  <thead>\n",
       "    <tr style=\"text-align: right;\">\n",
       "      <th></th>\n",
       "      <th>Precision</th>\n",
       "      <th>Recall</th>\n",
       "      <th>Accuracy</th>\n",
       "    </tr>\n",
       "  </thead>\n",
       "  <tbody>\n",
       "    <tr>\n",
       "      <th>0</th>\n",
       "      <td>0.899906</td>\n",
       "      <td>0.898098</td>\n",
       "      <td>0.899995</td>\n",
       "    </tr>\n",
       "  </tbody>\n",
       "</table>\n",
       "</div>"
      ],
      "text/plain": [
       "   Precision    Recall  Accuracy\n",
       "0   0.899906  0.898098  0.899995"
      ]
     },
     "execution_count": 57,
     "metadata": {},
     "output_type": "execute_result"
    }
   ],
   "source": [
    "dtree_tuned_test = model_performance_classification(dtree_estimator,x_test_scaled,y_test)\n",
    "dtree_tuned_test"
   ]
  },
  {
   "cell_type": "markdown",
   "id": "74ec6016",
   "metadata": {},
   "source": [
    "**Observation:**\n",
    "\n",
    "- Tuning our Decision Tree model has reduced the performance of our model but the problem of overfitting has been eliminated compared to our previous model."
   ]
  },
  {
   "cell_type": "markdown",
   "id": "e20fe46a",
   "metadata": {},
   "source": [
    "**Random Forest Classifier**"
   ]
  },
  {
   "cell_type": "code",
   "execution_count": 58,
   "id": "ad2e04e8",
   "metadata": {},
   "outputs": [
    {
     "data": {
      "text/plain": [
       "RandomForestClassifier(random_state=1)"
      ]
     },
     "execution_count": 58,
     "metadata": {},
     "output_type": "execute_result"
    }
   ],
   "source": [
    "# Fitting the Random Forest classifier on the training data\n",
    "rf_estimator = RandomForestClassifier( random_state = 1)\n",
    "\n",
    "rf_estimator.fit(x_train, y_train)"
   ]
  },
  {
   "cell_type": "code",
   "execution_count": 59,
   "id": "afc34d8b",
   "metadata": {},
   "outputs": [
    {
     "name": "stdout",
     "output_type": "stream",
     "text": [
      "              precision    recall  f1-score   support\n",
      "\n",
      "           0       1.00      1.00      1.00     21847\n",
      "           1       1.00      1.00      1.00     26356\n",
      "\n",
      "    accuracy                           1.00     48203\n",
      "   macro avg       1.00      1.00      1.00     48203\n",
      "weighted avg       1.00      1.00      1.00     48203\n",
      "\n"
     ]
    },
    {
     "data": {
      "image/png": "[encoded data removed]",
      "text/plain": [
       "<Figure size 576x360 with 2 Axes>"
      ]
     },
     "metadata": {
      "needs_background": "light"
     },
     "output_type": "display_data"
    }
   ],
   "source": [
    "# Checking performance on the training data\n",
    "y_pred_train_rf = rf_estimator.predict(x_train)\n",
    "\n",
    "metrics_score(y_train, y_pred_train_rf)"
   ]
  },
  {
   "cell_type": "code",
   "execution_count": 60,
   "id": "80455ccc",
   "metadata": {},
   "outputs": [
    {
     "name": "stdout",
     "output_type": "stream",
     "text": [
      "The average score of the model with K-5 Cross validation is 0.9427852074942535 \n"
     ]
    }
   ],
   "source": [
    "from sklearn.model_selection import cross_val_score\n",
    "scores = cross_val_score(rf_estimator, x_test, y_test, cv=5)\n",
    "print(f\"The average score of the model with K-5 Cross validation is {np.average(scores)} \")"
   ]
  },
  {
   "cell_type": "code",
   "execution_count": 61,
   "id": "d75a638c",
   "metadata": {},
   "outputs": [
    {
     "data": {
      "text/html": [
       "<div>\n",
       "<style scoped>\n",
       "    .dataframe tbody tr th:only-of-type {\n",
       "        vertical-align: middle;\n",
       "    }\n",
       "\n",
       "    .dataframe tbody tr th {\n",
       "        vertical-align: top;\n",
       "    }\n",
       "\n",
       "    .dataframe thead th {\n",
       "        text-align: right;\n",
       "    }\n",
       "</style>\n",
       "<table border=\"1\" class=\"dataframe\">\n",
       "  <thead>\n",
       "    <tr style=\"text-align: right;\">\n",
       "      <th></th>\n",
       "      <th>Precision</th>\n",
       "      <th>Recall</th>\n",
       "      <th>Accuracy</th>\n",
       "    </tr>\n",
       "  </thead>\n",
       "  <tbody>\n",
       "    <tr>\n",
       "      <th>0</th>\n",
       "      <td>0.949879</td>\n",
       "      <td>0.951181</td>\n",
       "      <td>0.95082</td>\n",
       "    </tr>\n",
       "  </tbody>\n",
       "</table>\n",
       "</div>"
      ],
      "text/plain": [
       "   Precision    Recall  Accuracy\n",
       "0   0.949879  0.951181   0.95082"
      ]
     },
     "execution_count": 61,
     "metadata": {},
     "output_type": "execute_result"
    }
   ],
   "source": [
    "rf_estimator_test = model_performance_classification(rf_estimator,x_test,y_test)\n",
    "rf_estimator_test"
   ]
  },
  {
   "cell_type": "markdown",
   "id": "eb4be626",
   "metadata": {},
   "source": [
    "**Observation:**\n",
    "\n",
    "- Random Forest classifier is giving a very good performance with a perfect score on the training data and for test data we get an **accuracy** of 0.95, **recall** of 0.95 and **f1-score** of 0.95.\n",
    "- Slightly better model score on training data over test data show model is overfitting \n",
    "- A recall of ~0.95 on the test data suggests that there is a small 5% chance that the model will predict that a passenger is satisfied when this is not true.\n",
    "- Our Random Forest Classifier is giving a slightly better performance than our previous Decision Tree model."
   ]
  },
  {
   "cell_type": "markdown",
   "id": "372b1d86",
   "metadata": {},
   "source": [
    "**Random Forest Classifier - Hyperparameter Tuning**"
   ]
  },
  {
   "cell_type": "code",
   "execution_count": 62,
   "id": "25adbeef",
   "metadata": {},
   "outputs": [
    {
     "data": {
      "text/plain": [
       "RandomForestClassifier(n_estimators=500, random_state=1)"
      ]
     },
     "execution_count": 62,
     "metadata": {},
     "output_type": "execute_result"
    }
   ],
   "source": [
    "# Choose the type of classifier\n",
    "rf_estimator_tuned = RandomForestClassifier(random_state = 1)\n",
    "\n",
    "# Grid of parameters to choose from\n",
    "params_rf = {  \n",
    "        \"n_estimators\": [100, 250, 500],\n",
    "        \"min_samples_leaf\": np.arange(1, 4, 1),\n",
    "        \"max_features\": [0.7, 0.9, 'auto'],\n",
    "}\n",
    "\n",
    "\n",
    "# Type of scoring used to compare parameter combinations - recall score for class 1\n",
    "scorer = metrics.make_scorer(recall_score, pos_label = 1)\n",
    "\n",
    "# Run the grid search\n",
    "grid_obj = GridSearchCV(rf_estimator_tuned, params_rf, scoring = scorer, cv = 5)\n",
    "\n",
    "grid_obj = grid_obj.fit(x_train, y_train)\n",
    "\n",
    "# Set the classifier to the best combination of parameters\n",
    "rf_estimator_tuned = grid_obj.best_estimator_\n",
    "\n",
    "rf_estimator_tuned.fit(x_train, y_train)\n",
    "\n",
    "rf_estimator_tuned.fit(x_train, y_train)"
   ]
  },
  {
   "cell_type": "code",
   "execution_count": 63,
   "id": "26fd0c9e",
   "metadata": {},
   "outputs": [
    {
     "name": "stdout",
     "output_type": "stream",
     "text": [
      "              precision    recall  f1-score   support\n",
      "\n",
      "           0       1.00      1.00      1.00     21847\n",
      "           1       1.00      1.00      1.00     26356\n",
      "\n",
      "    accuracy                           1.00     48203\n",
      "   macro avg       1.00      1.00      1.00     48203\n",
      "weighted avg       1.00      1.00      1.00     48203\n",
      "\n"
     ]
    },
    {
     "data": {
      "image/png": "[encoded data removed]",
      "text/plain": [
       "<Figure size 576x360 with 2 Axes>"
      ]
     },
     "metadata": {
      "needs_background": "light"
     },
     "output_type": "display_data"
    }
   ],
   "source": [
    "# Checking performance on the training data\n",
    "y_pred_train_rf_tuned = rf_estimator_tuned.predict(x_train)\n",
    "\n",
    "metrics_score(y_train, y_pred_train_rf_tuned)"
   ]
  },
  {
   "cell_type": "code",
   "execution_count": 64,
   "id": "45d76cdf",
   "metadata": {
    "scrolled": true
   },
   "outputs": [
    {
     "data": {
      "text/html": [
       "<div>\n",
       "<style scoped>\n",
       "    .dataframe tbody tr th:only-of-type {\n",
       "        vertical-align: middle;\n",
       "    }\n",
       "\n",
       "    .dataframe tbody tr th {\n",
       "        vertical-align: top;\n",
       "    }\n",
       "\n",
       "    .dataframe thead th {\n",
       "        text-align: right;\n",
       "    }\n",
       "</style>\n",
       "<table border=\"1\" class=\"dataframe\">\n",
       "  <thead>\n",
       "    <tr style=\"text-align: right;\">\n",
       "      <th></th>\n",
       "      <th>Precision</th>\n",
       "      <th>Recall</th>\n",
       "      <th>Accuracy</th>\n",
       "    </tr>\n",
       "  </thead>\n",
       "  <tbody>\n",
       "    <tr>\n",
       "      <th>0</th>\n",
       "      <td>0.950676</td>\n",
       "      <td>0.951781</td>\n",
       "      <td>0.951547</td>\n",
       "    </tr>\n",
       "  </tbody>\n",
       "</table>\n",
       "</div>"
      ],
      "text/plain": [
       "   Precision    Recall  Accuracy\n",
       "0   0.950676  0.951781  0.951547"
      ]
     },
     "execution_count": 64,
     "metadata": {},
     "output_type": "execute_result"
    }
   ],
   "source": [
    "rf_estimator_tuned_test = model_performance_classification(rf_estimator_tuned, x_test, y_test)\n",
    "rf_estimator_tuned_test"
   ]
  },
  {
   "cell_type": "markdown",
   "id": "f52bf5fb",
   "metadata": {},
   "source": [
    "**Observation:**\n",
    "\n",
    "- After hyperparameter tuning, Random Forest cassilfier giving similar performance. "
   ]
  },
  {
   "cell_type": "markdown",
   "id": "281724f7",
   "metadata": {},
   "source": [
    "**Adaboost Classifier**"
   ]
  },
  {
   "cell_type": "code",
   "execution_count": 65,
   "id": "702a3c36",
   "metadata": {},
   "outputs": [
    {
     "data": {
      "text/plain": [
       "AdaBoostClassifier(random_state=1)"
      ]
     },
     "execution_count": 65,
     "metadata": {},
     "output_type": "execute_result"
    }
   ],
   "source": [
    "# Adaboost Classifier\n",
    "adaboost_model = AdaBoostClassifier(random_state = 1)\n",
    "\n",
    "# Fitting the model\n",
    "adaboost_model.fit(x_train, y_train)"
   ]
  },
  {
   "cell_type": "code",
   "execution_count": 66,
   "id": "351dc585",
   "metadata": {},
   "outputs": [
    {
     "name": "stdout",
     "output_type": "stream",
     "text": [
      "              precision    recall  f1-score   support\n",
      "\n",
      "           0       0.89      0.90      0.89     21847\n",
      "           1       0.91      0.91      0.91     26356\n",
      "\n",
      "    accuracy                           0.90     48203\n",
      "   macro avg       0.90      0.90      0.90     48203\n",
      "weighted avg       0.90      0.90      0.90     48203\n",
      "\n"
     ]
    },
    {
     "data": {
      "image/png": "[encoded data removed]",
      "text/plain": [
       "<Figure size 576x360 with 2 Axes>"
      ]
     },
     "metadata": {
      "needs_background": "light"
     },
     "output_type": "display_data"
    }
   ],
   "source": [
    "# Checking performance on the training data\n",
    "y_pred_train_ad = adaboost_model.predict(x_train)\n",
    "\n",
    "metrics_score(y_train, y_pred_train_ad)"
   ]
  },
  {
   "cell_type": "markdown",
   "id": "99187045",
   "metadata": {},
   "source": [
    "**Observation:**\n",
    "\n",
    "- Adaboost classifier is giving a model score on the training data and for test data we get an **accuracy** of 0.90, **recall** of 0.91 and **f1-score** of 0.90.\n",
    "- Similar model score on training data and test data show model is not overfitting \n",
    "- A recall of ~0.90 on the test data suggests that there is a small 10% chance that the model will predict that a passenger is satisfied when this is not true.\n",
    "- Adaboost model not performing as well as out previous model"
   ]
  },
  {
   "cell_type": "code",
   "execution_count": 67,
   "id": "19ae6e35",
   "metadata": {},
   "outputs": [
    {
     "data": {
      "text/plain": [
       "AdaBoostClassifier(n_estimators=250, random_state=1)"
      ]
     },
     "execution_count": 67,
     "metadata": {},
     "output_type": "execute_result"
    }
   ],
   "source": [
    "# Using GridSearch for Hyperparameter Tuning\n",
    "# Choose the type of classifier\n",
    "adaboost_tuned = AdaBoostClassifier(random_state = 1)\n",
    "\n",
    "# Grid of parameters to choose from\n",
    "parameters = {\"n_estimators\": [100, 250, 500],\n",
    "             }\n",
    "\n",
    "# Type of scoring used to compare parameter combinations\n",
    "scorer = metrics.make_scorer(recall_score, pos_label = 1)\n",
    "\n",
    "# Run the grid search\n",
    "gridCV = GridSearchCV(adaboost_tuned, parameters, scoring = scorer, cv = 10)\n",
    "\n",
    "# Fitting the grid search on the train data\n",
    "gridCV = gridCV.fit(x_train, y_train)\n",
    "\n",
    "# Set the classifier to the best combination of parameters\n",
    "adaboost_tuned = gridCV.best_estimator_\n",
    "\n",
    "# Fit the best estimator to the data\n",
    "adaboost_tuned.fit(x_train, y_train)"
   ]
  },
  {
   "cell_type": "code",
   "execution_count": 68,
   "id": "77097e52",
   "metadata": {},
   "outputs": [
    {
     "name": "stdout",
     "output_type": "stream",
     "text": [
      "              precision    recall  f1-score   support\n",
      "\n",
      "           0       0.89      0.90      0.90     21847\n",
      "           1       0.92      0.91      0.91     26356\n",
      "\n",
      "    accuracy                           0.90     48203\n",
      "   macro avg       0.90      0.90      0.90     48203\n",
      "weighted avg       0.90      0.90      0.90     48203\n",
      "\n"
     ]
    },
    {
     "data": {
      "image/png": "[encoded data removed]",
      "text/plain": [
       "<Figure size 576x360 with 2 Axes>"
      ]
     },
     "metadata": {
      "needs_background": "light"
     },
     "output_type": "display_data"
    }
   ],
   "source": [
    "# Checking performance on the training data\n",
    "y_pred_train_ad_tuned = adaboost_tuned.predict(x_train)\n",
    "\n",
    "metrics_score(y_train, y_pred_train_ad_tuned)"
   ]
  },
  {
   "cell_type": "code",
   "execution_count": 69,
   "id": "ab282075",
   "metadata": {},
   "outputs": [
    {
     "data": {
      "text/html": [
       "<div>\n",
       "<style scoped>\n",
       "    .dataframe tbody tr th:only-of-type {\n",
       "        vertical-align: middle;\n",
       "    }\n",
       "\n",
       "    .dataframe tbody tr th {\n",
       "        vertical-align: top;\n",
       "    }\n",
       "\n",
       "    .dataframe thead th {\n",
       "        text-align: right;\n",
       "    }\n",
       "</style>\n",
       "<table border=\"1\" class=\"dataframe\">\n",
       "  <thead>\n",
       "    <tr style=\"text-align: right;\">\n",
       "      <th></th>\n",
       "      <th>Precision</th>\n",
       "      <th>Recall</th>\n",
       "      <th>Accuracy</th>\n",
       "    </tr>\n",
       "  </thead>\n",
       "  <tbody>\n",
       "    <tr>\n",
       "      <th>0</th>\n",
       "      <td>0.899311</td>\n",
       "      <td>0.900376</td>\n",
       "      <td>0.900528</td>\n",
       "    </tr>\n",
       "  </tbody>\n",
       "</table>\n",
       "</div>"
      ],
      "text/plain": [
       "   Precision    Recall  Accuracy\n",
       "0   0.899311  0.900376  0.900528"
      ]
     },
     "execution_count": 69,
     "metadata": {},
     "output_type": "execute_result"
    }
   ],
   "source": [
    "# Model Performance on the test data\n",
    "adaboost_model_perf_test = model_performance_classification(adaboost_tuned,x_test,y_test)\n",
    "\n",
    "\n",
    "adaboost_model_perf_test"
   ]
  },
  {
   "cell_type": "markdown",
   "id": "6dceefad",
   "metadata": {},
   "source": [
    "**Observation:**\n",
    "\n",
    "- Adaboost model performance did not improve much after hyperparameter tuning."
   ]
  },
  {
   "cell_type": "code",
   "execution_count": 70,
   "id": "5d87958f",
   "metadata": {},
   "outputs": [
    {
     "data": {
      "text/html": [
       "<div>\n",
       "<style scoped>\n",
       "    .dataframe tbody tr th:only-of-type {\n",
       "        vertical-align: middle;\n",
       "    }\n",
       "\n",
       "    .dataframe tbody tr th {\n",
       "        vertical-align: top;\n",
       "    }\n",
       "\n",
       "    .dataframe thead th {\n",
       "        text-align: right;\n",
       "    }\n",
       "</style>\n",
       "<table border=\"1\" class=\"dataframe\">\n",
       "  <thead>\n",
       "    <tr style=\"text-align: right;\">\n",
       "      <th></th>\n",
       "      <th>Precision</th>\n",
       "      <th>Recall</th>\n",
       "      <th>Accuracy</th>\n",
       "    </tr>\n",
       "  </thead>\n",
       "  <tbody>\n",
       "    <tr>\n",
       "      <th>0</th>\n",
       "      <td>0.921919</td>\n",
       "      <td>0.921795</td>\n",
       "      <td>0.922552</td>\n",
       "    </tr>\n",
       "  </tbody>\n",
       "</table>\n",
       "</div>"
      ],
      "text/plain": [
       "   Precision    Recall  Accuracy\n",
       "0   0.921919  0.921795  0.922552"
      ]
     },
     "execution_count": 70,
     "metadata": {},
     "output_type": "execute_result"
    }
   ],
   "source": [
    "# Gradient Boost Classifier\n",
    "gbc = GradientBoostingClassifier(random_state = 1)\n",
    "\n",
    "# Fitting the model\n",
    "gbc.fit(x_train, y_train)\n",
    "\n",
    "# Model Performance on the test data\n",
    "gbc_perf_test = model_performance_classification(gbc, x_test, y_test)\n",
    "\n",
    "gbc_perf_test"
   ]
  },
  {
   "cell_type": "code",
   "execution_count": 71,
   "id": "0450b6f8",
   "metadata": {},
   "outputs": [
    {
     "data": {
      "text/plain": [
       "GradientBoostingClassifier(max_depth=5, n_estimators=500, random_state=1)"
      ]
     },
     "execution_count": 71,
     "metadata": {},
     "output_type": "execute_result"
    }
   ],
   "source": [
    "# Using GridSearch for Hyperparameter Tuning\n",
    "# Choose the type of classifier\n",
    "gbc_tuned = GradientBoostingClassifier(random_state = 1)\n",
    "\n",
    "# Grid of parameters to choose from\n",
    "parameters = {\"n_estimators\": [100, 250, 500],\n",
    "              'max_depth': np.arange(2, 7),              \n",
    "             }\n",
    "\n",
    "# Type of scoring used to compare parameter combinations\n",
    "scorer = metrics.make_scorer(recall_score, pos_label = 1)\n",
    "\n",
    "# Run the grid search\n",
    "gridCV = GridSearchCV(gbc_tuned, parameters, scoring = scorer, cv = 10)\n",
    "\n",
    "# Fitting the grid search on the train data\n",
    "gridCV = gridCV.fit(x_train, y_train)\n",
    "\n",
    "# Set the classifier to the best combination of parameters\n",
    "gbc_tuned = gridCV.best_estimator_\n",
    "\n",
    "# Fit the best estimator to the data\n",
    "gbc_tuned.fit(x_train, y_train)"
   ]
  },
  {
   "cell_type": "code",
   "execution_count": 72,
   "id": "26e65c2f",
   "metadata": {},
   "outputs": [
    {
     "name": "stdout",
     "output_type": "stream",
     "text": [
      "              precision    recall  f1-score   support\n",
      "\n",
      "           0       0.97      0.98      0.98     21847\n",
      "           1       0.99      0.98      0.98     26356\n",
      "\n",
      "    accuracy                           0.98     48203\n",
      "   macro avg       0.98      0.98      0.98     48203\n",
      "weighted avg       0.98      0.98      0.98     48203\n",
      "\n"
     ]
    },
    {
     "data": {
      "image/png": "[encoded data removed]",
      "text/plain": [
       "<Figure size 576x360 with 2 Axes>"
      ]
     },
     "metadata": {
      "needs_background": "light"
     },
     "output_type": "display_data"
    }
   ],
   "source": [
    "# Checking performance on the training data\n",
    "y_pred_train_gbc_tuned = gbc_tuned.predict(x_train)\n",
    "\n",
    "metrics_score(y_train, y_pred_train_gbc_tuned)"
   ]
  },
  {
   "cell_type": "code",
   "execution_count": 73,
   "id": "6cb2b7ba",
   "metadata": {},
   "outputs": [
    {
     "data": {
      "text/html": [
       "<div>\n",
       "<style scoped>\n",
       "    .dataframe tbody tr th:only-of-type {\n",
       "        vertical-align: middle;\n",
       "    }\n",
       "\n",
       "    .dataframe tbody tr th {\n",
       "        vertical-align: top;\n",
       "    }\n",
       "\n",
       "    .dataframe thead th {\n",
       "        text-align: right;\n",
       "    }\n",
       "</style>\n",
       "<table border=\"1\" class=\"dataframe\">\n",
       "  <thead>\n",
       "    <tr style=\"text-align: right;\">\n",
       "      <th></th>\n",
       "      <th>Precision</th>\n",
       "      <th>Recall</th>\n",
       "      <th>Accuracy</th>\n",
       "    </tr>\n",
       "  </thead>\n",
       "  <tbody>\n",
       "    <tr>\n",
       "      <th>0</th>\n",
       "      <td>0.95454</td>\n",
       "      <td>0.955896</td>\n",
       "      <td>0.955467</td>\n",
       "    </tr>\n",
       "  </tbody>\n",
       "</table>\n",
       "</div>"
      ],
      "text/plain": [
       "   Precision    Recall  Accuracy\n",
       "0    0.95454  0.955896  0.955467"
      ]
     },
     "execution_count": 73,
     "metadata": {},
     "output_type": "execute_result"
    }
   ],
   "source": [
    "# Model Performance on the test data\n",
    "gbc_model_perf_test = model_performance_classification(gbc_tuned,x_test,y_test)\n",
    "\n",
    "\n",
    "gbc_model_perf_test"
   ]
  },
  {
   "cell_type": "markdown",
   "id": "bafc0c1b",
   "metadata": {},
   "source": [
    "**Observation:**\n",
    "\n",
    "- Performance of Gradient boost classifier improve significantly after tuning.\n",
    "- gbc model giving a very good performance and model score on the training data and test data with an **accuracy** of 0.96, **recall** of 0.95 and **f1-score** of 0.96.\n",
    "- Slightly better model score on training data over test data show model is slightly overfitting \n",
    "- A recall of ~0.95 on the test data suggests that there is a small 5% chance that the model will predict that a passenger is satisfied when this is not true."
   ]
  },
  {
   "cell_type": "markdown",
   "id": "311b72cd",
   "metadata": {},
   "source": [
    "**Extreme Gradiant Boosting Classifier**"
   ]
  },
  {
   "cell_type": "code",
   "execution_count": 74,
   "id": "37b01531",
   "metadata": {},
   "outputs": [
    {
     "data": {
      "text/html": [
       "<div>\n",
       "<style scoped>\n",
       "    .dataframe tbody tr th:only-of-type {\n",
       "        vertical-align: middle;\n",
       "    }\n",
       "\n",
       "    .dataframe tbody tr th {\n",
       "        vertical-align: top;\n",
       "    }\n",
       "\n",
       "    .dataframe thead th {\n",
       "        text-align: right;\n",
       "    }\n",
       "</style>\n",
       "<table border=\"1\" class=\"dataframe\">\n",
       "  <thead>\n",
       "    <tr style=\"text-align: right;\">\n",
       "      <th></th>\n",
       "      <th>Precision</th>\n",
       "      <th>Recall</th>\n",
       "      <th>Accuracy</th>\n",
       "    </tr>\n",
       "  </thead>\n",
       "  <tbody>\n",
       "    <tr>\n",
       "      <th>0</th>\n",
       "      <td>0.95389</td>\n",
       "      <td>0.955149</td>\n",
       "      <td>0.95479</td>\n",
       "    </tr>\n",
       "  </tbody>\n",
       "</table>\n",
       "</div>"
      ],
      "text/plain": [
       "   Precision    Recall  Accuracy\n",
       "0    0.95389  0.955149   0.95479"
      ]
     },
     "execution_count": 74,
     "metadata": {},
     "output_type": "execute_result"
    }
   ],
   "source": [
    "# XGBoost Classifier\n",
    "xgb = XGBClassifier(random_state = 1, eval_metric = 'logloss')\n",
    "\n",
    "# Fitting the model\n",
    "xgb.fit(x_train,y_train)\n",
    "\n",
    "# Model Performance on the test data\n",
    "xgb_perf_test = model_performance_classification(xgb,x_test,y_test)\n",
    "\n",
    "xgb_perf_test"
   ]
  },
  {
   "cell_type": "code",
   "execution_count": 75,
   "id": "75452ed4",
   "metadata": {},
   "outputs": [
    {
     "data": {
      "text/plain": [
       "XGBClassifier(base_score=0.5, booster='gbtree', callbacks=None,\n",
       "              colsample_bylevel=1, colsample_bynode=1, colsample_bytree=1,\n",
       "              early_stopping_rounds=None, enable_categorical=False,\n",
       "              eval_metric='logloss', feature_types=None, gamma=0, gpu_id=-1,\n",
       "              grow_policy='depthwise', importance_type=None,\n",
       "              interaction_constraints='', learning_rate=0.1, max_bin=256,\n",
       "              max_cat_threshold=64, max_cat_to_onehot=4, max_delta_step=0,\n",
       "              max_depth=7, max_leaves=0, min_child_weight=1, missing=nan,\n",
       "              monotone_constraints='()', n_estimators=500, n_jobs=0,\n",
       "              num_parallel_tree=1, predictor='auto', random_state=1, ...)"
      ]
     },
     "execution_count": 75,
     "metadata": {},
     "output_type": "execute_result"
    }
   ],
   "source": [
    "# Using GridSearch for Hyperparameter Tuning\n",
    "# Choose the type of classifier\n",
    "xgb_tuned = XGBClassifier(random_state = 1)\n",
    "\n",
    "# Grid of parameters to choose from\n",
    "parameters = {'learning_rate': [0.1],\n",
    "                'max_depth': [5, 7],\n",
    "                #'min_child_weight': [1, 3, 5],\n",
    "                #'subsample': [0.5, 0.7],\n",
    "                #'colsample_bytree': [0.5, 0.7],\n",
    "                'n_estimators' : [250, 500],\n",
    "                \"eval_metric\": [\"logloss\"],              \n",
    "             }\n",
    "\n",
    "# Type of scoring used to compare parameter combinations\n",
    "scorer = metrics.make_scorer(recall_score, pos_label = 1)\n",
    "\n",
    "# Run the grid search\n",
    "gridCV = GridSearchCV(xgb_tuned, parameters, scoring = scorer, cv = 10)\n",
    "\n",
    "# Fitting the grid search on the train data\n",
    "gridCV = gridCV.fit(x_train, y_train)\n",
    "\n",
    "# Set the classifier to the best combination of parameters\n",
    "xgb_tuned = gridCV.best_estimator_\n",
    "\n",
    "# Fit the best estimator to the data\n",
    "xgb_tuned.fit(x_train, y_train)"
   ]
  },
  {
   "cell_type": "code",
   "execution_count": 76,
   "id": "acd9c614",
   "metadata": {},
   "outputs": [
    {
     "name": "stdout",
     "output_type": "stream",
     "text": [
      "              precision    recall  f1-score   support\n",
      "\n",
      "           0       0.99      1.00      0.99     21847\n",
      "           1       1.00      0.99      0.99     26356\n",
      "\n",
      "    accuracy                           0.99     48203\n",
      "   macro avg       0.99      0.99      0.99     48203\n",
      "weighted avg       0.99      0.99      0.99     48203\n",
      "\n"
     ]
    },
    {
     "data": {
      "image/png": "[encoded data removed]",
      "text/plain": [
       "<Figure size 576x360 with 2 Axes>"
      ]
     },
     "metadata": {
      "needs_background": "light"
     },
     "output_type": "display_data"
    }
   ],
   "source": [
    "y_pred_train_xgb_tuned = xgb_tuned.predict(x_train)\n",
    "\n",
    "metrics_score(y_train, y_pred_train_xgb_tuned)"
   ]
  },
  {
   "cell_type": "code",
   "execution_count": 77,
   "id": "f36d8a67",
   "metadata": {},
   "outputs": [
    {
     "data": {
      "text/html": [
       "<div>\n",
       "<style scoped>\n",
       "    .dataframe tbody tr th:only-of-type {\n",
       "        vertical-align: middle;\n",
       "    }\n",
       "\n",
       "    .dataframe tbody tr th {\n",
       "        vertical-align: top;\n",
       "    }\n",
       "\n",
       "    .dataframe thead th {\n",
       "        text-align: right;\n",
       "    }\n",
       "</style>\n",
       "<table border=\"1\" class=\"dataframe\">\n",
       "  <thead>\n",
       "    <tr style=\"text-align: right;\">\n",
       "      <th></th>\n",
       "      <th>Precision</th>\n",
       "      <th>Recall</th>\n",
       "      <th>Accuracy</th>\n",
       "    </tr>\n",
       "  </thead>\n",
       "  <tbody>\n",
       "    <tr>\n",
       "      <th>0</th>\n",
       "      <td>0.955407</td>\n",
       "      <td>0.956649</td>\n",
       "      <td>0.95629</td>\n",
       "    </tr>\n",
       "  </tbody>\n",
       "</table>\n",
       "</div>"
      ],
      "text/plain": [
       "   Precision    Recall  Accuracy\n",
       "0   0.955407  0.956649   0.95629"
      ]
     },
     "execution_count": 77,
     "metadata": {},
     "output_type": "execute_result"
    }
   ],
   "source": [
    "# Model Performance on the test data\n",
    "xgb_model_perf_test = model_performance_classification(xgb_tuned,x_test,y_test)\n",
    "\n",
    "\n",
    "xgb_model_perf_test"
   ]
  },
  {
   "cell_type": "markdown",
   "id": "0f9b0d52",
   "metadata": {},
   "source": [
    "**Observation:**\n",
    "\n",
    "- Performance of XGboost classifier improved slightly after tuning.\n",
    "- xgboost model giving a very good performance and model score on the training data and test data with an **accuracy** of 0.96, **recall** of 0.95 and **f1-score** of 0.96.\n",
    "- Slightly better model score on training data over test data show model is slightly overfitting \n",
    "- A recall of ~0.95 on the test data suggests that there is a small 5% chance that the model will predict that a passenger is satisfied when this is not true."
   ]
  },
  {
   "cell_type": "markdown",
   "id": "367c402f",
   "metadata": {},
   "source": [
    "**Comparison of all the models we have built so far**"
   ]
  },
  {
   "cell_type": "code",
   "execution_count": 78,
   "id": "ecabcee0",
   "metadata": {},
   "outputs": [
    {
     "data": {
      "text/html": [
       "<div>\n",
       "<style scoped>\n",
       "    .dataframe tbody tr th:only-of-type {\n",
       "        vertical-align: middle;\n",
       "    }\n",
       "\n",
       "    .dataframe tbody tr th {\n",
       "        vertical-align: top;\n",
       "    }\n",
       "\n",
       "    .dataframe thead th {\n",
       "        text-align: right;\n",
       "    }\n",
       "</style>\n",
       "<table border=\"1\" class=\"dataframe\">\n",
       "  <thead>\n",
       "    <tr style=\"text-align: right;\">\n",
       "      <th></th>\n",
       "      <th>Tuned Decision Tree classifier</th>\n",
       "      <th>Random Forest classifier</th>\n",
       "      <th>Tuned Random Forest classifier</th>\n",
       "      <th>Tuned Adaboost classifier</th>\n",
       "      <th>Tuned Gradientboost classifier</th>\n",
       "      <th>Tuned XGBoost classifier</th>\n",
       "    </tr>\n",
       "  </thead>\n",
       "  <tbody>\n",
       "    <tr>\n",
       "      <th>Precision</th>\n",
       "      <td>0.899906</td>\n",
       "      <td>0.949879</td>\n",
       "      <td>0.950676</td>\n",
       "      <td>0.899311</td>\n",
       "      <td>0.954540</td>\n",
       "      <td>0.955407</td>\n",
       "    </tr>\n",
       "    <tr>\n",
       "      <th>Recall</th>\n",
       "      <td>0.898098</td>\n",
       "      <td>0.951181</td>\n",
       "      <td>0.951781</td>\n",
       "      <td>0.900376</td>\n",
       "      <td>0.955896</td>\n",
       "      <td>0.956649</td>\n",
       "    </tr>\n",
       "    <tr>\n",
       "      <th>Accuracy</th>\n",
       "      <td>0.899995</td>\n",
       "      <td>0.950820</td>\n",
       "      <td>0.951547</td>\n",
       "      <td>0.900528</td>\n",
       "      <td>0.955467</td>\n",
       "      <td>0.956290</td>\n",
       "    </tr>\n",
       "  </tbody>\n",
       "</table>\n",
       "</div>"
      ],
      "text/plain": [
       "           Tuned Decision Tree classifier  Random Forest classifier  \\\n",
       "Precision                        0.899906                  0.949879   \n",
       "Recall                           0.898098                  0.951181   \n",
       "Accuracy                         0.899995                  0.950820   \n",
       "\n",
       "           Tuned Random Forest classifier  Tuned Adaboost classifier  \\\n",
       "Precision                        0.950676                   0.899311   \n",
       "Recall                           0.951781                   0.900376   \n",
       "Accuracy                         0.951547                   0.900528   \n",
       "\n",
       "           Tuned Gradientboost classifier  Tuned XGBoost classifier  \n",
       "Precision                        0.954540                  0.955407  \n",
       "Recall                           0.955896                  0.956649  \n",
       "Accuracy                         0.955467                  0.956290  "
      ]
     },
     "execution_count": 78,
     "metadata": {},
     "output_type": "execute_result"
    }
   ],
   "source": [
    "models_test_comp_df = pd.concat(\n",
    "    \n",
    "    [    \n",
    "    dtree_tuned_test.T,rf_estimator_test.T,\n",
    "    rf_estimator_tuned_test.T , adaboost_model_perf_test.T, gbc_model_perf_test.T,\n",
    "    xgb_model_perf_test.T\n",
    "    ],\n",
    "    \n",
    "    axis = 1,\n",
    ")\n",
    "\n",
    "models_test_comp_df.columns = [\n",
    "    \"Tuned Decision Tree classifier\",\n",
    "    \"Random Forest classifier\",\n",
    "    \"Tuned Random Forest classifier\",\n",
    "    \"Tuned Adaboost classifier\",\n",
    "    \"Tuned Gradientboost classifier\",\n",
    "    \"Tuned XGBoost classifier\"\n",
    "]\n",
    "\n",
    "models_test_comp_df"
   ]
  },
  {
   "cell_type": "markdown",
   "id": "abc0cb97",
   "metadata": {},
   "source": [
    "**Ensemble our 3 best models**"
   ]
  },
  {
   "cell_type": "code",
   "execution_count": 79,
   "id": "fd2dfe11",
   "metadata": {},
   "outputs": [
    {
     "data": {
      "text/plain": [
       "VotingClassifier(estimators=[('rf_estimator_tuned',\n",
       "                              RandomForestClassifier(n_estimators=500,\n",
       "                                                     random_state=1)),\n",
       "                             ('gbc_tuned',\n",
       "                              GradientBoostingClassifier(n_estimators=500,\n",
       "                                                         random_state=1)),\n",
       "                             ('xgb_tuned',\n",
       "                              XGBClassifier(base_score=None, booster=None,\n",
       "                                            callbacks=None,\n",
       "                                            colsample_bylevel=None,\n",
       "                                            colsample_bynode=None,\n",
       "                                            colsample_bytree=None,\n",
       "                                            early_stopping_rounds=None,\n",
       "                                            ena...\n",
       "                                            gpu_id=None, grow_policy=None,\n",
       "                                            importance_type=None,\n",
       "                                            interaction_constraints=None,\n",
       "                                            learning_rate=None, max_bin=None,\n",
       "                                            max_cat_threshold=None,\n",
       "                                            max_cat_to_onehot=None,\n",
       "                                            max_delta_step=None, max_depth=None,\n",
       "                                            max_leaves=None,\n",
       "                                            min_child_weight=None, missing=nan,\n",
       "                                            monotone_constraints=None,\n",
       "                                            n_estimators=500, n_jobs=None,\n",
       "                                            num_parallel_tree=None,\n",
       "                                            predictor=None, random_state=1, ...))],\n",
       "                 voting='soft')"
      ]
     },
     "execution_count": 79,
     "metadata": {},
     "output_type": "execute_result"
    }
   ],
   "source": [
    "# import voting classifier\n",
    "from sklearn.ensemble import VotingClassifier\n",
    "\n",
    "# create a voting classifier with hard voting\n",
    "voting_classifier_hard = VotingClassifier(\n",
    "    estimators = [('rf_estimator_tuned' , RandomForestClassifier(random_state = 1,n_estimators=500)),\n",
    "                  ('gbc_tuned' , GradientBoostingClassifier(random_state = 1, n_estimators= 500)),\n",
    "                  ('xgb_tuned' , XGBClassifier(random_state = 1, n_estimators= 500))], \n",
    "    voting='hard')\n",
    "\n",
    "# create a voting classifier with soft voting\n",
    "voting_classifier_soft = VotingClassifier(\n",
    "    estimators = [('rf_estimator_tuned' , RandomForestClassifier(random_state = 1,n_estimators=500)),\n",
    "                  ('gbc_tuned' , GradientBoostingClassifier(random_state = 1, n_estimators= 500)),\n",
    "                  ('xgb_tuned' , XGBClassifier(random_state = 1, n_estimators= 500))], \n",
    "    voting='soft')\n",
    "\n",
    "# make predictions with the  voting model\n",
    "voting_classifier_hard.fit(x_train, y_train)\n",
    "\n",
    "voting_classifier_soft.fit(x_train, y_train)\n"
   ]
  },
  {
   "cell_type": "code",
   "execution_count": 80,
   "id": "b57c85dd",
   "metadata": {
    "scrolled": true
   },
   "outputs": [
    {
     "name": "stdout",
     "output_type": "stream",
     "text": [
      "              precision    recall  f1-score   support\n",
      "\n",
      "           0       1.00      1.00      1.00     21847\n",
      "           1       1.00      1.00      1.00     26356\n",
      "\n",
      "    accuracy                           1.00     48203\n",
      "   macro avg       1.00      1.00      1.00     48203\n",
      "weighted avg       1.00      1.00      1.00     48203\n",
      "\n"
     ]
    },
    {
     "data": {
      "image/png": "[encoded data removed]",
      "text/plain": [
       "<Figure size 576x360 with 2 Axes>"
      ]
     },
     "metadata": {
      "needs_background": "light"
     },
     "output_type": "display_data"
    }
   ],
   "source": [
    "y_pred_train_voting_clf = voting_classifier_hard.predict(x_train)\n",
    "metrics_score(y_train, y_pred_train_voting_clf)"
   ]
  },
  {
   "cell_type": "code",
   "execution_count": 81,
   "id": "060a1349",
   "metadata": {},
   "outputs": [
    {
     "data": {
      "text/html": [
       "<div>\n",
       "<style scoped>\n",
       "    .dataframe tbody tr th:only-of-type {\n",
       "        vertical-align: middle;\n",
       "    }\n",
       "\n",
       "    .dataframe tbody tr th {\n",
       "        vertical-align: top;\n",
       "    }\n",
       "\n",
       "    .dataframe thead th {\n",
       "        text-align: right;\n",
       "    }\n",
       "</style>\n",
       "<table border=\"1\" class=\"dataframe\">\n",
       "  <thead>\n",
       "    <tr style=\"text-align: right;\">\n",
       "      <th></th>\n",
       "      <th>Precision</th>\n",
       "      <th>Recall</th>\n",
       "      <th>Accuracy</th>\n",
       "    </tr>\n",
       "  </thead>\n",
       "  <tbody>\n",
       "    <tr>\n",
       "      <th>0</th>\n",
       "      <td>0.952639</td>\n",
       "      <td>0.953997</td>\n",
       "      <td>0.95358</td>\n",
       "    </tr>\n",
       "  </tbody>\n",
       "</table>\n",
       "</div>"
      ],
      "text/plain": [
       "   Precision    Recall  Accuracy\n",
       "0   0.952639  0.953997   0.95358"
      ]
     },
     "execution_count": 81,
     "metadata": {},
     "output_type": "execute_result"
    }
   ],
   "source": [
    "# Model Performance on the test data\n",
    "voting_clf_model_perf_test = model_performance_classification(voting_classifier_hard,x_test,y_test)\n",
    "\n",
    "voting_clf_model_perf_test"
   ]
  },
  {
   "cell_type": "code",
   "execution_count": 82,
   "id": "544a2e21",
   "metadata": {},
   "outputs": [
    {
     "data": {
      "text/html": [
       "<div>\n",
       "<style scoped>\n",
       "    .dataframe tbody tr th:only-of-type {\n",
       "        vertical-align: middle;\n",
       "    }\n",
       "\n",
       "    .dataframe tbody tr th {\n",
       "        vertical-align: top;\n",
       "    }\n",
       "\n",
       "    .dataframe thead th {\n",
       "        text-align: right;\n",
       "    }\n",
       "</style>\n",
       "<table border=\"1\" class=\"dataframe\">\n",
       "  <thead>\n",
       "    <tr style=\"text-align: right;\">\n",
       "      <th></th>\n",
       "      <th>Precision</th>\n",
       "      <th>Recall</th>\n",
       "      <th>Accuracy</th>\n",
       "    </tr>\n",
       "  </thead>\n",
       "  <tbody>\n",
       "    <tr>\n",
       "      <th>0</th>\n",
       "      <td>0.954197</td>\n",
       "      <td>0.955559</td>\n",
       "      <td>0.955129</td>\n",
       "    </tr>\n",
       "  </tbody>\n",
       "</table>\n",
       "</div>"
      ],
      "text/plain": [
       "   Precision    Recall  Accuracy\n",
       "0   0.954197  0.955559  0.955129"
      ]
     },
     "execution_count": 82,
     "metadata": {},
     "output_type": "execute_result"
    }
   ],
   "source": [
    "# Model Performance on the test data\n",
    "voting_clf_model_perf_test2 = model_performance_classification(voting_classifier_soft,x_test,y_test)\n",
    "\n",
    "voting_clf_model_perf_test2"
   ]
  },
  {
   "cell_type": "markdown",
   "id": "b9590ade",
   "metadata": {},
   "source": [
    "**Predicting target variable for test data with our best performing model Tuned Random Forest**"
   ]
  },
  {
   "cell_type": "code",
   "execution_count": 83,
   "id": "519297fa",
   "metadata": {},
   "outputs": [
    {
     "data": {
      "text/plain": [
       "array([0, 0, 1, ..., 1, 1, 1])"
      ]
     },
     "execution_count": 83,
     "metadata": {},
     "output_type": "execute_result"
    }
   ],
   "source": [
    "#Printing target variable for test data as array \n",
    "\n",
    "test_predictions = xgb_tuned.predict(x_test)\n",
    "test_predictions"
   ]
  },
  {
   "cell_type": "code",
   "execution_count": 84,
   "id": "23a1684b",
   "metadata": {},
   "outputs": [
    {
     "data": {
      "text/html": [
       "<div>\n",
       "<style scoped>\n",
       "    .dataframe tbody tr th:only-of-type {\n",
       "        vertical-align: middle;\n",
       "    }\n",
       "\n",
       "    .dataframe tbody tr th {\n",
       "        vertical-align: top;\n",
       "    }\n",
       "\n",
       "    .dataframe thead th {\n",
       "        text-align: right;\n",
       "    }\n",
       "</style>\n",
       "<table border=\"1\" class=\"dataframe\">\n",
       "  <thead>\n",
       "    <tr style=\"text-align: right;\">\n",
       "      <th></th>\n",
       "      <th>ID</th>\n",
       "      <th>Overall_Satisfaction</th>\n",
       "    </tr>\n",
       "  </thead>\n",
       "  <tbody>\n",
       "    <tr>\n",
       "      <th>51437</th>\n",
       "      <td>98851438</td>\n",
       "      <td>0</td>\n",
       "    </tr>\n",
       "    <tr>\n",
       "      <th>69621</th>\n",
       "      <td>98869622</td>\n",
       "      <td>0</td>\n",
       "    </tr>\n",
       "    <tr>\n",
       "      <th>47565</th>\n",
       "      <td>98847566</td>\n",
       "      <td>1</td>\n",
       "    </tr>\n",
       "    <tr>\n",
       "      <th>39390</th>\n",
       "      <td>98839391</td>\n",
       "      <td>1</td>\n",
       "    </tr>\n",
       "    <tr>\n",
       "      <th>24002</th>\n",
       "      <td>98824003</td>\n",
       "      <td>0</td>\n",
       "    </tr>\n",
       "    <tr>\n",
       "      <th>...</th>\n",
       "      <td>...</td>\n",
       "      <td>...</td>\n",
       "    </tr>\n",
       "    <tr>\n",
       "      <th>75286</th>\n",
       "      <td>98875287</td>\n",
       "      <td>0</td>\n",
       "    </tr>\n",
       "    <tr>\n",
       "      <th>63427</th>\n",
       "      <td>98863428</td>\n",
       "      <td>1</td>\n",
       "    </tr>\n",
       "    <tr>\n",
       "      <th>80319</th>\n",
       "      <td>98880320</td>\n",
       "      <td>1</td>\n",
       "    </tr>\n",
       "    <tr>\n",
       "      <th>60925</th>\n",
       "      <td>98860926</td>\n",
       "      <td>1</td>\n",
       "    </tr>\n",
       "    <tr>\n",
       "      <th>5969</th>\n",
       "      <td>98805970</td>\n",
       "      <td>1</td>\n",
       "    </tr>\n",
       "  </tbody>\n",
       "</table>\n",
       "<p>20659 rows × 2 columns</p>\n",
       "</div>"
      ],
      "text/plain": [
       "             ID  Overall_Satisfaction\n",
       "51437  98851438                     0\n",
       "69621  98869622                     0\n",
       "47565  98847566                     1\n",
       "39390  98839391                     1\n",
       "24002  98824003                     0\n",
       "...         ...                   ...\n",
       "75286  98875287                     0\n",
       "63427  98863428                     1\n",
       "80319  98880320                     1\n",
       "60925  98860926                     1\n",
       "5969   98805970                     1\n",
       "\n",
       "[20659 rows x 2 columns]"
      ]
     },
     "execution_count": 84,
     "metadata": {},
     "output_type": "execute_result"
    }
   ],
   "source": [
    "# Making a new dataframe to get the display prediction results\n",
    "\n",
    "test_result = pd.DataFrame()\n",
    "\n",
    "test_result['ID'] = x_test0['ID']\n",
    "\n",
    "test_result['Overall_Satisfaction'] = test_predictions\n",
    "\n",
    "test_result"
   ]
  },
  {
   "cell_type": "markdown",
   "id": "9563a3b6",
   "metadata": {},
   "source": [
    "## Conclusion :\n",
    "\n",
    "- The **xgboost model** after hyperparameter tuning gave the best performance with a recall and accuracy of 95.6% and the **voting_classifier** model gave the second best performance of 95.56%\n",
    "- A recall of ~0.96 on the test data suggests that there is a small ~4% chance that the model will predict that a passenger is not satisfied when this is not true. This is still a very good performance.\n",
    "\n",
    "### Recommendations\n",
    "- From the features importance of our model, we can see that **'Onboard_Entertainment'**, **'Seat_Comfort'**, **'Ease_of_Online_Booking'** are the most important features that determines the 'Customer Satisfaction'. The travel company should focus on improving these services."
   ]
  },
  {
   "cell_type": "code",
   "execution_count": null,
   "id": "1df05fde",
   "metadata": {},
   "outputs": [],
   "source": []
  },
  {
   "cell_type": "code",
   "execution_count": null,
   "id": "052fd5d8",
   "metadata": {},
   "outputs": [],
   "source": []
  }
 ],
 "metadata": {
  "kernelspec": {
   "display_name": "Python 3 (ipykernel)",
   "language": "python",
   "name": "python3"
  },
  "language_info": {
   "codemirror_mode": {
    "name": "ipython",
    "version": 3
   },
   "file_extension": ".py",
   "mimetype": "text/x-python",
   "name": "python",
   "nbconvert_exporter": "python",
   "pygments_lexer": "ipython3",
   "version": "3.9.12"
  }
 },
 "nbformat": 4,
 "nbformat_minor": 5
}
